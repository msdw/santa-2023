{
 "cells": [
  {
   "cell_type": "markdown",
   "id": "2ff02bc6",
   "metadata": {
    "papermill": {
     "duration": 0.011665,
     "end_time": "2024-01-22T15:13:42.578433",
     "exception": false,
     "start_time": "2024-01-22T15:13:42.566768",
     "status": "completed"
    },
    "tags": []
   },
   "source": [
    "# What is about ?\n",
    "\n",
    "\n",
    "Here we consider ML approach - see https://www.kaggle.com/competitions/santa-2023/discussion/466399\n",
    "\n",
    "With the addition of the new idea - random walks drift by the ML-model prediction . \n",
    "\n"
   ]
  },
  {
   "cell_type": "code",
   "execution_count": 1,
   "id": "f7d5baf0",
   "metadata": {
    "_cell_guid": "b1076dfc-b9ad-4769-8c92-a6c4dae69d19",
    "_uuid": "8f2839f25d086af736a60e9eeb907d3b93b6e0e5",
    "execution": {
     "iopub.execute_input": "2024-01-22T15:13:42.603281Z",
     "iopub.status.busy": "2024-01-22T15:13:42.602861Z",
     "iopub.status.idle": "2024-01-22T15:13:44.542906Z",
     "shell.execute_reply": "2024-01-22T15:13:44.541985Z"
    },
    "papermill": {
     "duration": 1.956316,
     "end_time": "2024-01-22T15:13:44.546139",
     "exception": false,
     "start_time": "2024-01-22T15:13:42.589823",
     "status": "completed"
    },
    "tags": []
   },
   "outputs": [
    {
     "name": "stdout",
     "output_type": "stream",
     "text": [
      "/kaggle/input/santa23-globe26-puzzles-states/states_on_distance_8_globe_26_npint8_solstateIX0_shape36_179716236.npy\n",
      "/kaggle/input/santa23-globe26-puzzles-states/states_on_distance_7_globe_26_npint8_solstateIX0_shape36_25400414.npy\n",
      "/kaggle/input/santa23-globe26-puzzles-states/vec_hash_globe_26_till8solstateIX0.npy\n",
      "/kaggle/input/santa23-globe26-puzzles-states/states_on_distance_1_globe_26_npint8_solstateIX0_shape36_18.npy\n",
      "/kaggle/input/santa23-globe26-puzzles-states/moves_names_globe_26_count30.csv\n",
      "/kaggle/input/santa23-globe26-puzzles-states/states_on_distance_3_globe_26_npint8_solstateIX0_shape36_3458.npy\n",
      "/kaggle/input/santa23-globe26-puzzles-states/states_on_distance_6_globe_26_npint8_solstateIX0_shape36_3382271.npy\n",
      "/kaggle/input/santa23-globe26-puzzles-states/df_initial_states_globe_26_solstateIX0_shape5_6.csv\n",
      "/kaggle/input/santa23-globe26-puzzles-states/states_on_distance_5_globe_26_npint8_solstateIX0_shape36_399824.npy\n",
      "/kaggle/input/santa23-globe26-puzzles-states/states_on_distance_4_globe_26_npint8_solstateIX0_shape36_40023.npy\n",
      "/kaggle/input/santa23-globe26-puzzles-states/states_on_distance_0_globe_26_npint8_solstateIX0_shape36_1.npy\n",
      "/kaggle/input/santa23-globe26-puzzles-states/all_move_matrices_vstacked_globe_26_count30_size36.npy\n",
      "/kaggle/input/santa23-globe26-puzzles-states/vec_to_create_hash.npy\n",
      "/kaggle/input/santa23-globe26-puzzles-states/states_on_distance_2_globe_26_npint8_solstateIX0_shape36_264.npy\n",
      "/kaggle/input/santa23-globe26-puzzles-states/distances_globe_26_till8solstateIX0.npy\n",
      "/kaggle/input/santa23-globe26-puzzles-states/Globe26RandomWalksDataID8424size10mio/RW_globe_26_vec_hash_depth100_nstates10000000_ID8424.npy\n",
      "/kaggle/input/santa23-globe26-puzzles-states/Globe26RandomWalksDataID8424size10mio/RW_globe_26_vec_distances_depth100_nstates10000000_ID8424.npy\n",
      "/kaggle/input/santa23-globe26-puzzles-states/Globe26RandomWalksDataID8424size10mio/RW_globe_26_array_new_states_total_depth100_nstates10000000_ID8424.npy\n",
      "/kaggle/input/santa23-globe26-puzzles-states/Globe26RandomWalksDataID5350size10mio/RW_globe_26_array_new_states_total_depth100_nstates10000000_ID5350.npy\n",
      "/kaggle/input/santa23-globe26-puzzles-states/Globe26RandomWalksDataID5350size10mio/RW_globe_26_vec_hash_depth100_nstates10000000_ID5350.npy\n",
      "/kaggle/input/santa23-globe26-puzzles-states/Globe26RandomWalksDataID5350size10mio/RW_globe_26_vec_distances_depth100_nstates10000000_ID5350.npy\n",
      "/kaggle/input/santa23-globe26-puzzles-states/Globe26RandomWalksDataIDsizeID89010mio/RW_globe_26_vec_distances_depth100_nstates10000000_ID890.npy\n",
      "/kaggle/input/santa23-globe26-puzzles-states/Globe26RandomWalksDataIDsizeID89010mio/RW_globe_26_vec_hash_depth100_nstates10000000_ID890.npy\n",
      "/kaggle/input/santa23-globe26-puzzles-states/Globe26RandomWalksDataIDsizeID89010mio/RW_globe_26_array_new_states_total_depth100_nstates10000000_ID890.npy\n",
      "/kaggle/input/santa23-globe26-puzzles-states/Globe26RandomWalksDataID4733size1mioCheck4/RW_globe_26_array_new_states_total_depth100_nstates1000000_ID4733.npy\n",
      "/kaggle/input/santa23-globe26-puzzles-states/Globe26RandomWalksDataID4733size1mioCheck4/RW_globe_26_vec_hash_depth100_nstates1000000_ID4733.npy\n",
      "/kaggle/input/santa23-globe26-puzzles-states/Globe26RandomWalksDataID4733size1mioCheck4/RW_globe_26_vec_distances_depth100_nstates1000000_ID4733.npy\n",
      "/kaggle/input/santa23-globe26-puzzles-states/Globe26RandomWalksDataID5347size10mioCheck1/RW_globe_26_vec_hash_depth100_nstates10000000_ID5347.npy\n",
      "/kaggle/input/santa23-globe26-puzzles-states/Globe26RandomWalksDataID5347size10mioCheck1/RW_globe_26_vec_distances_depth100_nstates10000000_ID5347.npy\n",
      "/kaggle/input/santa23-globe26-puzzles-states/Globe26RandomWalksDataID5347size10mioCheck1/RW_globe_26_array_new_states_total_depth100_nstates10000000_ID5347.npy\n",
      "/kaggle/input/santa23-globe26-puzzles-states/Globe26RandomWalksDataID5867size10mio/RW_globe_26_array_new_states_total_depth100_nstates10000000_ID5867.npy\n",
      "/kaggle/input/santa23-globe26-puzzles-states/Globe26RandomWalksDataID5867size10mio/RW_globe_26_vec_distances_depth100_nstates10000000_ID5867.npy\n",
      "/kaggle/input/santa23-globe26-puzzles-states/Globe26RandomWalksDataID5867size10mio/RW_globe_26_vec_hash_depth100_nstates10000000_ID5867.npy\n",
      "/kaggle/input/santa23-globe26-puzzles-states/Globe26RandomWalksDataID7309/RW_globe_26_array_new_states_total_depth100_nstates1000000_ID7309.npy\n",
      "/kaggle/input/santa23-globe26-puzzles-states/Globe26RandomWalksDataID7309/RW_globe_26_vec_distances_depth100_nstates1000000_ID7309.npy\n",
      "/kaggle/input/santa23-globe26-puzzles-states/Globe26RandomWalksDataID7309/RW_globe_26_vec_hash_depth100_nstates1000000_ID7309.npy\n",
      "/kaggle/input/santa23-globe26-puzzles-states/Globe26RandomWalksDataID7610/RW_globe_26_array_new_states_total_depth100_nstates1000000_ID7610.npy\n",
      "/kaggle/input/santa23-globe26-puzzles-states/Globe26RandomWalksDataID7610/RW_globe_26_vec_hash_depth100_nstates1000000_ID7610.npy\n",
      "/kaggle/input/santa23-globe26-puzzles-states/Globe26RandomWalksDataID7610/RW_globe_26_vec_distances_depth100_nstates1000000_ID7610.npy\n",
      "/kaggle/input/santa23-globe26-puzzles-states/Globe26RandomWalksDataID7785size1mioCheck4/RW_globe_26_vec_distances_depth100_nstates1000000_ID7785.npy\n",
      "/kaggle/input/santa23-globe26-puzzles-states/Globe26RandomWalksDataID7785size1mioCheck4/RW_globe_26_array_new_states_total_depth100_nstates1000000_ID7785.npy\n",
      "/kaggle/input/santa23-globe26-puzzles-states/Globe26RandomWalksDataID7785size1mioCheck4/RW_globe_26_vec_hash_depth100_nstates1000000_ID7785.npy\n",
      "/kaggle/input/santa23-globe26-puzzles-states/Globe26RandomWalksDataID6041/RW_globe_26_vec_hash_depth100_nstates1000000_ID6041.npy\n",
      "/kaggle/input/santa23-globe26-puzzles-states/Globe26RandomWalksDataID6041/RW_globe_26_vec_distances_depth100_nstates1000000_ID6041.npy\n",
      "/kaggle/input/santa23-globe26-puzzles-states/Globe26RandomWalksDataID6041/RW_globe_26_array_new_states_total_depth100_nstates1000000_ID6041.npy\n",
      "/kaggle/input/santa23-globe26-puzzles-states/Globe26RandomWalksDataID6041size10mioCheck1/RW_globe_26_vec_hash_depth100_nstates10000000_ID6041.npy\n",
      "/kaggle/input/santa23-globe26-puzzles-states/Globe26RandomWalksDataID6041size10mioCheck1/RW_globe_26_array_new_states_total_depth100_nstates10000000_ID6041.npy\n",
      "/kaggle/input/santa23-globe26-puzzles-states/Globe26RandomWalksDataID6041size10mioCheck1/RW_globe_26_vec_distances_depth100_nstates10000000_ID6041.npy\n",
      "/kaggle/input/santa23-globe26-puzzles-states/Globe26RandomWalksDataID2969size10mio/RW_globe_26_array_new_states_total_depth100_nstates10000000_ID2969.npy\n",
      "/kaggle/input/santa23-globe26-puzzles-states/Globe26RandomWalksDataID2969size10mio/RW_globe_26_vec_hash_depth100_nstates10000000_ID2969.npy\n",
      "/kaggle/input/santa23-globe26-puzzles-states/Globe26RandomWalksDataID2969size10mio/RW_globe_26_vec_distances_depth100_nstates10000000_ID2969.npy\n",
      "/kaggle/input/santa-2023/sample_submission.csv\n",
      "/kaggle/input/santa-2023/puzzles.csv\n",
      "/kaggle/input/santa-2023/puzzle_info.csv\n",
      "/kaggle/input/santa23-submits/submission_720173.csv\n",
      "/kaggle/input/santa23-submits/submission_753272.csv\n",
      "/kaggle/input/santa23-submits/submission_824982.csv\n",
      "/kaggle/input/santa23-submits/submission_753438_include_anna_work.csv\n",
      "/kaggle/input/santa23-submits/submission_742860.csv\n",
      "/kaggle/input/santa23-submits/submission_720601_update_globe_26_355_to_37_steps.csv\n",
      "/kaggle/input/santa23-submits/submission_720813.csv\n"
     ]
    }
   ],
   "source": [
    "# This Python 3 environment comes with many helpful analytics libraries installed\n",
    "# It is defined by the kaggle/python Docker image: https://github.com/kaggle/docker-python\n",
    "# For example, here's several helpful packages to load\n",
    "\n",
    "import time\n",
    "t0start = time.time() \n",
    "\n",
    "import numpy as np # linear algebra\n",
    "import pandas as pd # data processing, CSV file I/O (e.g. pd.read_csv)\n",
    "\n",
    "import matplotlib.pyplot as plt\n",
    "import seaborn as sns\n",
    "\n",
    "\n",
    "# Input data files are available in the read-only \"../input/\" directory\n",
    "# For example, running this (by clicking run or pressing Shift+Enter) will list all files under the input directory\n",
    "\n",
    "import os\n",
    "for dirname, _, filenames in os.walk('/kaggle/input'):\n",
    "    for filename in filenames:\n",
    "        print(os.path.join(dirname, filename))\n",
    "        \n",
    "# You can write up to 20GB to the current directory (/kaggle/working/) that gets preserved as output when you create a version using \"Save & Run All\" \n",
    "# You can also write temporary files to /kaggle/temp/, but they won't be saved outside of the current session   \n",
    "\n",
    "def print_inf(numpy_array):\n",
    "    print(numpy_array.shape, numpy_array.nbytes,numpy_array.dtype)    \n",
    "    "
   ]
  },
  {
   "cell_type": "markdown",
   "id": "db166f8c",
   "metadata": {
    "papermill": {
     "duration": 0.012076,
     "end_time": "2024-01-22T15:13:44.570514",
     "exception": false,
     "start_time": "2024-01-22T15:13:44.558438",
     "status": "completed"
    },
    "tags": []
   },
   "source": [
    "# Key params - choose puzzle, etc "
   ]
  },
  {
   "cell_type": "code",
   "execution_count": 2,
   "id": "b8788b80",
   "metadata": {
    "execution": {
     "iopub.execute_input": "2024-01-22T15:13:44.596533Z",
     "iopub.status.busy": "2024-01-22T15:13:44.595648Z",
     "iopub.status.idle": "2024-01-22T15:13:44.601729Z",
     "shell.execute_reply": "2024-01-22T15:13:44.600782Z"
    },
    "papermill": {
     "duration": 0.021945,
     "end_time": "2024-01-22T15:13:44.604240",
     "exception": false,
     "start_time": "2024-01-22T15:13:44.582295",
     "status": "completed"
    },
    "tags": []
   },
   "outputs": [],
   "source": [
    "puzzle_type_main = 'globe_2/6'\n",
    "index_initial_state = 357\n",
    "# 'globe_2/6':\n",
    "# 353\t-r1.-r1.-r1.-r1.f4.f0.f10.f3.f11.-r2.f10.f9.f1...\t23\n",
    "# 354\tr2.f6.f7.f5.-r0.f1.f0.-r2.-r2.f9.f10.f0.f11.r0...\t23\n",
    "# 355\tr2.f4.-r2.f2.f7.-f2.r2.-f4.-f11.f1.r2.f4.f8.-f...\t407\n",
    "# 356\tf8.f0.-r1.-r1.f9.f8.f4.r0.f5.f8.f0.f9.-f8.f4.r...\t415\n",
    "# 357\t-r0.r1.-f6.r2.-f0.r2.-f1.f10.f0.f5.f2.-f0.f1.f...\t335\n",
    "\n",
    "prm_bound_on_steps_of_random_walks_to_be_included_into_train_set  = 40\n",
    "n_random_walks = 20_000\n",
    "n_steps_random_walk = 31 # length of model-guided random walks - the bigger - easier to find the solution, but it will be less optimal \n",
    "n_best_model_candidates_to_choose_for_random_walk  = 3 # we randomly choose one among that number of model best candidates and random walk steps in that direction\n",
    "\n",
    "test_size = 0.1 # Test size for ML-model - basically we do NOT need any test, cause our test is to find solution state, any way we can keep it for sanity check"
   ]
  },
  {
   "cell_type": "code",
   "execution_count": 3,
   "id": "1d900603",
   "metadata": {
    "execution": {
     "iopub.execute_input": "2024-01-22T15:13:44.632339Z",
     "iopub.status.busy": "2024-01-22T15:13:44.631914Z",
     "iopub.status.idle": "2024-01-22T15:13:44.637313Z",
     "shell.execute_reply": "2024-01-22T15:13:44.636224Z"
    },
    "papermill": {
     "duration": 0.021878,
     "end_time": "2024-01-22T15:13:44.639604",
     "exception": false,
     "start_time": "2024-01-22T15:13:44.617726",
     "status": "completed"
    },
    "tags": []
   },
   "outputs": [
    {
     "name": "stdout",
     "output_type": "stream",
     "text": [
      "globe_2/6 357 20000 31 0.1\n"
     ]
    }
   ],
   "source": [
    "print(puzzle_type_main,index_initial_state, n_random_walks, n_steps_random_walk , test_size )"
   ]
  },
  {
   "cell_type": "markdown",
   "id": "9709d8f1",
   "metadata": {
    "papermill": {
     "duration": 0.011209,
     "end_time": "2024-01-22T15:13:44.662886",
     "exception": false,
     "start_time": "2024-01-22T15:13:44.651677",
     "status": "completed"
    },
    "tags": []
   },
   "source": [
    "# Load current puzzle states (and solution) data\n",
    "\n",
    "vec_initial_state - initial state in numeric format - for puzzle index_initial_state"
   ]
  },
  {
   "cell_type": "code",
   "execution_count": 4,
   "id": "8a154d63",
   "metadata": {
    "execution": {
     "iopub.execute_input": "2024-01-22T15:13:44.688895Z",
     "iopub.status.busy": "2024-01-22T15:13:44.688135Z",
     "iopub.status.idle": "2024-01-22T15:13:44.991087Z",
     "shell.execute_reply": "2024-01-22T15:13:44.990100Z"
    },
    "papermill": {
     "duration": 0.321347,
     "end_time": "2024-01-22T15:13:44.995872",
     "exception": false,
     "start_time": "2024-01-22T15:13:44.674525",
     "status": "completed"
    },
    "tags": []
   },
   "outputs": [
    {
     "data": {
      "text/html": [
       "<div>\n",
       "<style scoped>\n",
       "    .dataframe tbody tr th:only-of-type {\n",
       "        vertical-align: middle;\n",
       "    }\n",
       "\n",
       "    .dataframe tbody tr th {\n",
       "        vertical-align: top;\n",
       "    }\n",
       "\n",
       "    .dataframe thead th {\n",
       "        text-align: right;\n",
       "    }\n",
       "</style>\n",
       "<table border=\"1\" class=\"dataframe\">\n",
       "  <thead>\n",
       "    <tr style=\"text-align: right;\">\n",
       "      <th></th>\n",
       "      <th>puzzle_type</th>\n",
       "      <th>solution_state</th>\n",
       "      <th>initial_state</th>\n",
       "      <th>num_wildcards</th>\n",
       "      <th>vec_solution_state</th>\n",
       "      <th>vec_initial_state</th>\n",
       "    </tr>\n",
       "    <tr>\n",
       "      <th>id</th>\n",
       "      <th></th>\n",
       "      <th></th>\n",
       "      <th></th>\n",
       "      <th></th>\n",
       "      <th></th>\n",
       "      <th></th>\n",
       "    </tr>\n",
       "  </thead>\n",
       "  <tbody>\n",
       "    <tr>\n",
       "      <th>353</th>\n",
       "      <td>globe_2/6</td>\n",
       "      <td>A;A;A;D;D;D;G;G;G;J;J;J;B;B;B;E;E;E;H;H;H;K;K;...</td>\n",
       "      <td>C;F;A;F;L;J;L;D;G;C;G;J;E;E;H;H;H;K;K;K;B;B;B;...</td>\n",
       "      <td>4</td>\n",
       "      <td>[0, 0, 0, 1, 1, 1, 2, 2, 2, 3, 3, 3, 4, 4, 4, ...</td>\n",
       "      <td>[8, 9, 0, 9, 11, 3, 11, 1, 2, 8, 2, 3, 5, 5, 6...</td>\n",
       "    </tr>\n",
       "    <tr>\n",
       "      <th>354</th>\n",
       "      <td>globe_2/6</td>\n",
       "      <td>A;A;A;D;D;D;G;G;G;J;J;J;B;B;B;E;E;E;H;H;H;K;K;...</td>\n",
       "      <td>F;J;A;L;D;L;D;I;C;I;I;A;B;B;B;E;E;E;H;H;H;K;K;...</td>\n",
       "      <td>0</td>\n",
       "      <td>[0, 0, 0, 1, 1, 1, 2, 2, 2, 3, 3, 3, 4, 4, 4, ...</td>\n",
       "      <td>[9, 3, 0, 11, 1, 11, 1, 10, 8, 10, 10, 0, 4, 4...</td>\n",
       "    </tr>\n",
       "    <tr>\n",
       "      <th>355</th>\n",
       "      <td>globe_2/6</td>\n",
       "      <td>A;A;A;D;D;D;G;G;G;J;J;J;B;B;B;E;E;E;H;H;H;K;K;...</td>\n",
       "      <td>F;J;J;A;D;I;D;L;I;I;C;F;E;E;H;H;H;K;K;K;B;B;B;...</td>\n",
       "      <td>0</td>\n",
       "      <td>[0, 0, 0, 1, 1, 1, 2, 2, 2, 3, 3, 3, 4, 4, 4, ...</td>\n",
       "      <td>[9, 3, 3, 0, 1, 10, 1, 11, 10, 10, 8, 9, 5, 5,...</td>\n",
       "    </tr>\n",
       "    <tr>\n",
       "      <th>356</th>\n",
       "      <td>globe_2/6</td>\n",
       "      <td>A;A;A;D;D;D;G;G;G;J;J;J;B;B;B;E;E;E;H;H;H;K;K;...</td>\n",
       "      <td>L;F;C;D;G;C;A;I;D;L;G;L;B;B;E;E;E;H;H;H;K;K;K;...</td>\n",
       "      <td>0</td>\n",
       "      <td>[0, 0, 0, 1, 1, 1, 2, 2, 2, 3, 3, 3, 4, 4, 4, ...</td>\n",
       "      <td>[11, 9, 8, 1, 2, 8, 0, 10, 1, 11, 2, 11, 4, 4,...</td>\n",
       "    </tr>\n",
       "    <tr>\n",
       "      <th>357</th>\n",
       "      <td>globe_2/6</td>\n",
       "      <td>A;A;A;D;D;D;G;G;G;J;J;J;B;B;B;E;E;E;H;H;H;K;K;...</td>\n",
       "      <td>A;L;G;F;C;D;D;F;I;F;D;G;E;E;E;H;H;H;K;K;K;B;B;...</td>\n",
       "      <td>2</td>\n",
       "      <td>[0, 0, 0, 1, 1, 1, 2, 2, 2, 3, 3, 3, 4, 4, 4, ...</td>\n",
       "      <td>[0, 11, 2, 9, 8, 1, 1, 9, 10, 9, 1, 2, 5, 5, 5...</td>\n",
       "    </tr>\n",
       "  </tbody>\n",
       "</table>\n",
       "</div>"
      ],
      "text/plain": [
       "    puzzle_type                                     solution_state  \\\n",
       "id                                                                   \n",
       "353   globe_2/6  A;A;A;D;D;D;G;G;G;J;J;J;B;B;B;E;E;E;H;H;H;K;K;...   \n",
       "354   globe_2/6  A;A;A;D;D;D;G;G;G;J;J;J;B;B;B;E;E;E;H;H;H;K;K;...   \n",
       "355   globe_2/6  A;A;A;D;D;D;G;G;G;J;J;J;B;B;B;E;E;E;H;H;H;K;K;...   \n",
       "356   globe_2/6  A;A;A;D;D;D;G;G;G;J;J;J;B;B;B;E;E;E;H;H;H;K;K;...   \n",
       "357   globe_2/6  A;A;A;D;D;D;G;G;G;J;J;J;B;B;B;E;E;E;H;H;H;K;K;...   \n",
       "\n",
       "                                         initial_state  num_wildcards  \\\n",
       "id                                                                      \n",
       "353  C;F;A;F;L;J;L;D;G;C;G;J;E;E;H;H;H;K;K;K;B;B;B;...              4   \n",
       "354  F;J;A;L;D;L;D;I;C;I;I;A;B;B;B;E;E;E;H;H;H;K;K;...              0   \n",
       "355  F;J;J;A;D;I;D;L;I;I;C;F;E;E;H;H;H;K;K;K;B;B;B;...              0   \n",
       "356  L;F;C;D;G;C;A;I;D;L;G;L;B;B;E;E;E;H;H;H;K;K;K;...              0   \n",
       "357  A;L;G;F;C;D;D;F;I;F;D;G;E;E;E;H;H;H;K;K;K;B;B;...              2   \n",
       "\n",
       "                                    vec_solution_state  \\\n",
       "id                                                       \n",
       "353  [0, 0, 0, 1, 1, 1, 2, 2, 2, 3, 3, 3, 4, 4, 4, ...   \n",
       "354  [0, 0, 0, 1, 1, 1, 2, 2, 2, 3, 3, 3, 4, 4, 4, ...   \n",
       "355  [0, 0, 0, 1, 1, 1, 2, 2, 2, 3, 3, 3, 4, 4, 4, ...   \n",
       "356  [0, 0, 0, 1, 1, 1, 2, 2, 2, 3, 3, 3, 4, 4, 4, ...   \n",
       "357  [0, 0, 0, 1, 1, 1, 2, 2, 2, 3, 3, 3, 4, 4, 4, ...   \n",
       "\n",
       "                                     vec_initial_state  \n",
       "id                                                      \n",
       "353  [8, 9, 0, 9, 11, 3, 11, 1, 2, 8, 2, 3, 5, 5, 6...  \n",
       "354  [9, 3, 0, 11, 1, 11, 1, 10, 8, 10, 10, 0, 4, 4...  \n",
       "355  [9, 3, 3, 0, 1, 10, 1, 11, 10, 10, 8, 9, 5, 5,...  \n",
       "356  [11, 9, 8, 1, 2, 8, 0, 10, 1, 11, 2, 11, 4, 4,...  \n",
       "357  [0, 11, 2, 9, 8, 1, 1, 9, 10, 9, 1, 2, 5, 5, 5...  "
      ]
     },
     "metadata": {},
     "output_type": "display_data"
    },
    {
     "name": "stdout",
     "output_type": "stream",
     "text": [
      "202 ['-r0', 'r1', '-f6', 'r2', '-f0', 'r2', '-f1', 'f10', 'f0', 'f5', 'f2', '-f0', 'f1', 'r0', 'r0', '-r1', '-r1', '-r1', '-r1', '-f6', '-r2', 'f1', 'f10', 'r0', 'r0', 'f10', 'r2', 'r2', 'f4', 'f11', '-f0', '-f10', 'f9', '-r2', '-f0', '-r0', '-f11', '-f0', '-r2', 'f7', 'r2', 'f1', 'f2', 'r0', 'f2', 'f6', '-f11', 'f10', 'f8', '-f9', '-f0', '-f8', '-f0', '-f5', '-f0', '-f7', '-f0', 'f5', 'f0', 'f9', 'f0', '-r0', '-f4', 'r0', 'f0', 'f9', 'f0', 'r2', '-f7', 'r0', '-f7', '-r0', 'f2', 'r0', 'f2', '-r0', '-f6', 'r0', '-r2', '-f3', 'r2', 'f0', 'f9', 'f0', '-r2', '-f3', 'r2', 'f10', '-r0', 'f10', '-r2', 'r2', '-f11', '-r0', '-f0', 'r0', 'r0', '-f5', '-r0', '-f5', 'r0', 'f10', '-r0', 'f10', '-r2', '-r0', 'f3', 'r0', '-f0', '-f10', '-f0', '-r0', 'f3', 'r0', 'f7', '-r0', '-r0', 'f7', '-f8', '-f9', 'r0', 'f3', 'r0', '-f0', '-f10', '-f0', '-r0', 'f3', 'r0', '-r2', '-f11', '-f8', '-f11', 'r2', '-f11', '-f8', '-f11', 'f6', '-f4', '-r2', '-r2', '-f10', '-r0', '-r0', '-f10', '-r2', '-r2', '-f0', '-r0', '-r0', 'f0', 'f4', '-f0', '-f7', '-f0', '-f6', '-r2', '-f6', 'r2', '-f6', '-r2', '-f0', '-r0', '-f0', '-r2', 'f4', 'r2', '-f4', '-r0', '-f4', 'r0', 'f9', '-r0', 'f9', '-r2', '-f6', 'f11', '-r0', 'f11', '-r2', 'f11', '-r0', 'f11', '-r2', 'f0', 'f7', 'f0', 'f4', '-r2', 'f5', 'r2', 'f11', '-r0', 'f11', '-r2', '-f5', '-r2', 'f5', 'f1', '-f6', 'f8', 'f10']\n"
     ]
    },
    {
     "data": {
      "text/html": [
       "<div>\n",
       "<style scoped>\n",
       "    .dataframe tbody tr th:only-of-type {\n",
       "        vertical-align: middle;\n",
       "    }\n",
       "\n",
       "    .dataframe tbody tr th {\n",
       "        vertical-align: top;\n",
       "    }\n",
       "\n",
       "    .dataframe thead th {\n",
       "        text-align: right;\n",
       "    }\n",
       "</style>\n",
       "<table border=\"1\" class=\"dataframe\">\n",
       "  <thead>\n",
       "    <tr style=\"text-align: right;\">\n",
       "      <th></th>\n",
       "      <th>moves</th>\n",
       "      <th>n_moves</th>\n",
       "    </tr>\n",
       "    <tr>\n",
       "      <th>id</th>\n",
       "      <th></th>\n",
       "      <th></th>\n",
       "    </tr>\n",
       "  </thead>\n",
       "  <tbody>\n",
       "    <tr>\n",
       "      <th>353</th>\n",
       "      <td>-r1.-r1.-r1.-r1.f4.f0.f10.f3.f11.-r2.f10.f9.f1...</td>\n",
       "      <td>23</td>\n",
       "    </tr>\n",
       "    <tr>\n",
       "      <th>354</th>\n",
       "      <td>r2.f6.f7.f5.-r0.f1.f0.-r2.-r2.f9.f10.f0.f11.r0...</td>\n",
       "      <td>23</td>\n",
       "    </tr>\n",
       "    <tr>\n",
       "      <th>355</th>\n",
       "      <td>-f1.-f8.f11.r0.-f3.-f5.-f6.-r1.-f4.-r0.-f6.-f1...</td>\n",
       "      <td>37</td>\n",
       "    </tr>\n",
       "    <tr>\n",
       "      <th>356</th>\n",
       "      <td>f8.-r0.-r0.-r0.-r0.-r0.-r0.f5.-r1.f4.f1.f0.f11...</td>\n",
       "      <td>219</td>\n",
       "    </tr>\n",
       "    <tr>\n",
       "      <th>357</th>\n",
       "      <td>-r0.r1.-f6.r2.-f0.r2.-f1.f10.f0.f5.f2.-f0.f1.r...</td>\n",
       "      <td>202</td>\n",
       "    </tr>\n",
       "  </tbody>\n",
       "</table>\n",
       "</div>"
      ],
      "text/plain": [
       "                                                 moves  n_moves\n",
       "id                                                             \n",
       "353  -r1.-r1.-r1.-r1.f4.f0.f10.f3.f11.-r2.f10.f9.f1...       23\n",
       "354  r2.f6.f7.f5.-r0.f1.f0.-r2.-r2.f9.f10.f0.f11.r0...       23\n",
       "355  -f1.-f8.f11.r0.-f3.-f5.-f6.-r1.-f4.-r0.-f6.-f1...       37\n",
       "356  f8.-r0.-r0.-r0.-r0.-r0.-r0.f5.-r1.f4.f1.f0.f11...      219\n",
       "357  -r0.r1.-f6.r2.-f0.r2.-f1.f10.f0.f5.f2.-f0.f1.r...      202"
      ]
     },
     "metadata": {},
     "output_type": "display_data"
    },
    {
     "data": {
      "text/html": [
       "<div>\n",
       "<style scoped>\n",
       "    .dataframe tbody tr th:only-of-type {\n",
       "        vertical-align: middle;\n",
       "    }\n",
       "\n",
       "    .dataframe tbody tr th {\n",
       "        vertical-align: top;\n",
       "    }\n",
       "\n",
       "    .dataframe thead th {\n",
       "        text-align: right;\n",
       "    }\n",
       "</style>\n",
       "<table border=\"1\" class=\"dataframe\">\n",
       "  <thead>\n",
       "    <tr style=\"text-align: right;\">\n",
       "      <th></th>\n",
       "      <th>moves</th>\n",
       "      <th>n_moves</th>\n",
       "    </tr>\n",
       "    <tr>\n",
       "      <th>id</th>\n",
       "      <th></th>\n",
       "      <th></th>\n",
       "    </tr>\n",
       "  </thead>\n",
       "  <tbody>\n",
       "    <tr>\n",
       "      <th>0</th>\n",
       "      <td>r1.-f1</td>\n",
       "      <td>2</td>\n",
       "    </tr>\n",
       "    <tr>\n",
       "      <th>1</th>\n",
       "      <td>f0.r1.f1.-d0.-d0.-f0.-r0.f0.d0</td>\n",
       "      <td>9</td>\n",
       "    </tr>\n",
       "    <tr>\n",
       "      <th>2</th>\n",
       "      <td>-d1.-r0.f0.-r1.f1.d1.-r1.-f0.d1.f0.d1.d1</td>\n",
       "      <td>12</td>\n",
       "    </tr>\n",
       "    <tr>\n",
       "      <th>3</th>\n",
       "      <td>-f0.d0.-r0.f0.-d0.-r0.d0.-f0.-r0.-f0</td>\n",
       "      <td>10</td>\n",
       "    </tr>\n",
       "    <tr>\n",
       "      <th>4</th>\n",
       "      <td>-r1.-f0.d0.r0.-d1.-d1.r1.d1.f0.r1.-d1.-r1</td>\n",
       "      <td>12</td>\n",
       "    </tr>\n",
       "    <tr>\n",
       "      <th>...</th>\n",
       "      <td>...</td>\n",
       "      <td>...</td>\n",
       "    </tr>\n",
       "    <tr>\n",
       "      <th>393</th>\n",
       "      <td>f19.f21.-f39.f20.f2.-f5.f7.-r3.f55.-f12.f65.-f...</td>\n",
       "      <td>29562</td>\n",
       "    </tr>\n",
       "    <tr>\n",
       "      <th>394</th>\n",
       "      <td>-f31.-f22.f16.-f17.-f13.-f24.-f14.f2.f21.f44.f...</td>\n",
       "      <td>28657</td>\n",
       "    </tr>\n",
       "    <tr>\n",
       "      <th>395</th>\n",
       "      <td>-r0.-f42.-f8.f16.-f49.f14.-f1.f56.f26.f35.f62....</td>\n",
       "      <td>28758</td>\n",
       "    </tr>\n",
       "    <tr>\n",
       "      <th>396</th>\n",
       "      <td>f25.-f29.f46.f49.-f8.f27.f26.-f20.f2.-f20.f6.f...</td>\n",
       "      <td>26340</td>\n",
       "    </tr>\n",
       "    <tr>\n",
       "      <th>397</th>\n",
       "      <td>-r1.f23.f24.-r2.f38.-f19.f24.f19.f18.f29.f48.-...</td>\n",
       "      <td>20679</td>\n",
       "    </tr>\n",
       "  </tbody>\n",
       "</table>\n",
       "<p>398 rows × 2 columns</p>\n",
       "</div>"
      ],
      "text/plain": [
       "                                                 moves  n_moves\n",
       "id                                                             \n",
       "0                                               r1.-f1        2\n",
       "1                       f0.r1.f1.-d0.-d0.-f0.-r0.f0.d0        9\n",
       "2             -d1.-r0.f0.-r1.f1.d1.-r1.-f0.d1.f0.d1.d1       12\n",
       "3                 -f0.d0.-r0.f0.-d0.-r0.d0.-f0.-r0.-f0       10\n",
       "4            -r1.-f0.d0.r0.-d1.-d1.r1.d1.f0.r1.-d1.-r1       12\n",
       "..                                                 ...      ...\n",
       "393  f19.f21.-f39.f20.f2.-f5.f7.-r3.f55.-f12.f65.-f...    29562\n",
       "394  -f31.-f22.f16.-f17.-f13.-f24.-f14.f2.f21.f44.f...    28657\n",
       "395  -r0.-f42.-f8.f16.-f49.f14.-f1.f56.f26.f35.f62....    28758\n",
       "396  f25.-f29.f46.f49.-f8.f27.f26.-f20.f2.-f20.f6.f...    26340\n",
       "397  -r1.f23.f24.-r2.f38.-f19.f24.f19.f18.f29.f48.-...    20679\n",
       "\n",
       "[398 rows x 2 columns]"
      ]
     },
     "metadata": {},
     "output_type": "display_data"
    },
    {
     "name": "stdout",
     "output_type": "stream",
     "text": [
      "[0, 11, 2, 9, 8, 1, 1, 9, 10, 9, 1, 2, 5, 5, 5, 6, 6, 6, 7, 7, 7, 4, 4, 4, 8, 0, 11, 3, 11, 8, 3, 2, 10, 3, 0, 10]\n",
      "['0', '11', '2', '9', '8', '1', '1', '9', '10', '9', '1', '2', '5', '5', '5', '6', '6', '6', '7', '7', '7', '4', '4', '4', '8', '0', '11', '3', '11', '8', '3', '2', '10', '3', '0', '10']\n",
      "vec_initial_state: 36 [ 0 11  2  9  8  1  1  9 10  9  1  2  5  5  5  6  6  6  7  7  7  4  4  4\n",
      "  8  0 11  3 11  8  3  2 10  3  0 10]\n",
      "[0, 0, 0, 1, 1, 1, 2, 2, 2, 3, 3, 3, 4, 4, 4, 5, 5, 5, 6, 6, 6, 7, 7, 7, 8, 8, 8, 9, 9, 9, 10, 10, 10, 11, 11, 11]\n",
      "['0', '0', '0', '1', '1', '1', '2', '2', '2', '3', '3', '3', '4', '4', '4', '5', '5', '5', '6', '6', '6', '7', '7', '7', '8', '8', '8', '9', '9', '9', '10', '10', '10', '11', '11', '11']\n",
      "vec_solution_state: 36 [ 0  0  0  1  1  1  2  2  2  3  3  3  4  4  4  5  5  5  6  6  6  7  7  7\n",
      "  8  8  8  9  9  9 10 10 10 11 11 11]\n",
      "CPU times: user 197 ms, sys: 23.3 ms, total: 220 ms\n",
      "Wall time: 290 ms\n"
     ]
    }
   ],
   "source": [
    "%%time\n",
    "\n",
    "fn = '/kaggle/input/santa23-globe26-puzzles-states/df_initial_states_globe_26_solstateIX0_shape5_6.csv'\n",
    "dfi = pd.read_csv(fn,index_col = 0)\n",
    "display( dfi )\n",
    "# mask = dfi['puzzle_type'] ==  puzzle_type_main\n",
    "# print(mask.sum())\n",
    "\n",
    "# fn = '/kaggle/input/santa23-submits/submission_753438_include_anna_work.csv'\n",
    "# fn = '/kaggle/input/santa23-submits/submission_742860.csv'\n",
    "# 353\t-r1.-r1.-r1.-r1.f4.f0.f10.f3.f11.-r2.f10.f9.f1...\t23\n",
    "# 354\tr2.f6.f7.f5.-r0.f1.f0.-r2.-r2.f9.f10.f0.f11.r0...\t23\n",
    "# 355\tr2.f4.-r2.f2.f7.-f2.r2.-f4.-f11.f1.r2.f4.f8.-f...\t407\n",
    "# 356\tf8.f0.-r1.-r1.f9.f8.f4.r0.f5.f8.f0.f9.-f8.f4.r...\t415\n",
    "# 357\t-r0.r1.-f6.r2.-f0.r2.-f1.f10.f0.f5.f2.-f0.f1.f...\t335\n",
    "# fn = '/kaggle/input/santa23-submits/submission_720813.csv'\n",
    "# fn = '/kaggle/input/santa23-submits/submission_720601_update_globe_26_355_to_37_steps.csv'\n",
    "fn = '/kaggle/input/santa23-submits/submission_720173.csv'\n",
    "fn_save_submit = fn\n",
    "df_sub = pd.read_csv(fn, index_col = 0 )\n",
    "df_sub['n_moves'] = df_sub['moves'].apply(lambda x: len(x.split('.')) )\n",
    "list_moves_names = df_sub.loc[index_initial_state,'moves'].split('.')\n",
    "print(len(list_moves_names), list_moves_names )\n",
    "display(df_sub[ df_sub.index.isin(dfi.index)] )\n",
    "display(df_sub)\n",
    "\n",
    "import re\n",
    "input_string = dfi['vec_initial_state'].at[index_initial_state]#.replace('')\n",
    "print(input_string)\n",
    "# Extract numbers using regular expression\n",
    "numbers = re.findall(r'\\d+', input_string)\n",
    "print(numbers)\n",
    "# Convert the extracted numbers to a list of integers\n",
    "result_list = [int(num) for num in numbers]\n",
    "result_list\n",
    "vec_initial_state = np.array(result_list, dtype = np.int8)\n",
    "print('vec_initial_state:', len(vec_initial_state) , vec_initial_state)\n",
    "\n",
    "input_string = dfi['vec_solution_state'].at[index_initial_state]#.replace('')\n",
    "print(input_string)\n",
    "# Extract numbers using regular expression\n",
    "numbers = re.findall(r'\\d+', input_string)\n",
    "print(numbers)\n",
    "# Convert the extracted numbers to a list of integers\n",
    "result_list = [int(num) for num in numbers]\n",
    "result_list\n",
    "vec_solution_state = np.array(result_list, dtype = np.int8)\n",
    "print('vec_solution_state:', len(vec_solution_state) , vec_solution_state)\n",
    "\n",
    "\n"
   ]
  },
  {
   "cell_type": "markdown",
   "id": "62cc5b26",
   "metadata": {
    "papermill": {
     "duration": 0.012556,
     "end_time": "2024-01-22T15:13:45.021427",
     "exception": false,
     "start_time": "2024-01-22T15:13:45.008871",
     "status": "completed"
    },
    "tags": []
   },
   "source": [
    "# Load data to train the model -  (states beyond fully charted neigbourhood - obtained by random walks)"
   ]
  },
  {
   "cell_type": "code",
   "execution_count": 5,
   "id": "d75534b9",
   "metadata": {
    "execution": {
     "iopub.execute_input": "2024-01-22T15:13:45.049466Z",
     "iopub.status.busy": "2024-01-22T15:13:45.049023Z",
     "iopub.status.idle": "2024-01-22T15:13:45.652438Z",
     "shell.execute_reply": "2024-01-22T15:13:45.651127Z"
    },
    "papermill": {
     "duration": 0.620892,
     "end_time": "2024-01-22T15:13:45.655149",
     "exception": false,
     "start_time": "2024-01-22T15:13:45.034257",
     "status": "completed"
    },
    "tags": []
   },
   "outputs": [
    {
     "name": "stdout",
     "output_type": "stream",
     "text": [
      "['RW_globe_26_array_new_states_total_depth100_nstates1000000_ID4733.npy', 'RW_globe_26_vec_hash_depth100_nstates1000000_ID4733.npy', 'RW_globe_26_vec_distances_depth100_nstates1000000_ID4733.npy']\n",
      "(36, 1000000) 36000000 int8\n",
      "(1000000,) 8000000 int64\n",
      "(1000000,) 8000000 int64\n",
      "CPU times: user 11.3 ms, sys: 52.9 ms, total: 64.2 ms\n",
      "Wall time: 596 ms\n"
     ]
    }
   ],
   "source": [
    "%%time\n",
    "# /kaggle/input/santa23-globe26-puzzles-states/Globe26RandomWalksDataID4733size1mioCheck4/RW_globe_26_array_new_states_total_depth100_nstates1000000_ID4733.npy\n",
    "# /kaggle/input/santa23-globe26-puzzles-states/Globe26RandomWalksDataID4733size1mioCheck4/RW_globe_26_vec_hash_depth100_nstates1000000_ID4733.npy\n",
    "# /kaggle/input/santa23-globe26-puzzles-states/Globe26RandomWalksDataID4733size1mioCheck4/RW_globe_26_vec_distances_depth100_nstates1000000_ID4733.npy\n",
    "\n",
    "dn = '/kaggle/input/santa23-globe26-puzzles-states/Globe26RandomWalksDataID4733size1mioCheck4/'\n",
    "l = os.listdir(dn)\n",
    "print(l)\n",
    "states = np.load(dn + 'RW_globe_26_array_new_states_total_depth100_nstates1000000_ID4733.npy')\n",
    "print_inf(states)\n",
    "vec_hash = np.load(dn + 'RW_globe_26_vec_hash_depth100_nstates1000000_ID4733.npy')\n",
    "print_inf(vec_hash)\n",
    "vec_distances = np.load(dn + 'RW_globe_26_vec_distances_depth100_nstates1000000_ID4733.npy')\n",
    "print_inf(vec_distances)\n",
    "\n"
   ]
  },
  {
   "cell_type": "markdown",
   "id": "ce0a4294",
   "metadata": {
    "papermill": {
     "duration": 0.013201,
     "end_time": "2024-01-22T15:13:45.681921",
     "exception": false,
     "start_time": "2024-01-22T15:13:45.668720",
     "status": "completed"
    },
    "tags": []
   },
   "source": [
    "# Choose part for training set"
   ]
  },
  {
   "cell_type": "code",
   "execution_count": 6,
   "id": "19df0244",
   "metadata": {
    "execution": {
     "iopub.execute_input": "2024-01-22T15:13:45.710095Z",
     "iopub.status.busy": "2024-01-22T15:13:45.709270Z",
     "iopub.status.idle": "2024-01-22T15:13:45.724000Z",
     "shell.execute_reply": "2024-01-22T15:13:45.722245Z"
    },
    "papermill": {
     "duration": 0.032004,
     "end_time": "2024-01-22T15:13:45.726794",
     "exception": false,
     "start_time": "2024-01-22T15:13:45.694790",
     "status": "completed"
    },
    "tags": []
   },
   "outputs": [
    {
     "name": "stdout",
     "output_type": "stream",
     "text": [
      "320000\n"
     ]
    }
   ],
   "source": [
    "bound = prm_bound_on_steps_of_random_walks_to_be_included_into_train_set # 40\n",
    "IX = np.where(vec_distances <= bound )[0]\n",
    "print(len(IX))\n",
    "IX_selected = IX"
   ]
  },
  {
   "cell_type": "markdown",
   "id": "f0689b87",
   "metadata": {
    "papermill": {
     "duration": 0.013137,
     "end_time": "2024-01-22T15:13:45.753345",
     "exception": false,
     "start_time": "2024-01-22T15:13:45.740208",
     "status": "completed"
    },
    "tags": []
   },
   "source": [
    "# Train-test split"
   ]
  },
  {
   "cell_type": "code",
   "execution_count": 7,
   "id": "5889ca50",
   "metadata": {
    "execution": {
     "iopub.execute_input": "2024-01-22T15:13:45.782228Z",
     "iopub.status.busy": "2024-01-22T15:13:45.781077Z",
     "iopub.status.idle": "2024-01-22T15:13:46.090037Z",
     "shell.execute_reply": "2024-01-22T15:13:46.088795Z"
    },
    "papermill": {
     "duration": 0.326188,
     "end_time": "2024-01-22T15:13:46.092814",
     "exception": false,
     "start_time": "2024-01-22T15:13:45.766626",
     "status": "completed"
    },
    "tags": []
   },
   "outputs": [
    {
     "name": "stdout",
     "output_type": "stream",
     "text": [
      "CPU times: user 106 ms, sys: 37.5 ms, total: 143 ms\n",
      "Wall time: 300 ms\n"
     ]
    },
    {
     "data": {
      "text/plain": [
       "((288000,), (32000,))"
      ]
     },
     "execution_count": 7,
     "metadata": {},
     "output_type": "execute_result"
    }
   ],
   "source": [
    "%%time\n",
    "\n",
    "# test_size = 0.1\n",
    "\n",
    "from sklearn.model_selection import train_test_split\n",
    "\n",
    "IX_train, IX_test = train_test_split( IX_selected , test_size=test_size, random_state=42)\n",
    "IX_train.shape, IX_test.shape "
   ]
  },
  {
   "cell_type": "code",
   "execution_count": 8,
   "id": "51c9d841",
   "metadata": {
    "execution": {
     "iopub.execute_input": "2024-01-22T15:13:46.123250Z",
     "iopub.status.busy": "2024-01-22T15:13:46.122093Z",
     "iopub.status.idle": "2024-01-22T15:13:46.252412Z",
     "shell.execute_reply": "2024-01-22T15:13:46.250778Z"
    },
    "papermill": {
     "duration": 0.14846,
     "end_time": "2024-01-22T15:13:46.255277",
     "exception": false,
     "start_time": "2024-01-22T15:13:46.106817",
     "status": "completed"
    },
    "tags": []
   },
   "outputs": [
    {
     "name": "stdout",
     "output_type": "stream",
     "text": [
      "(288000, 36) 10368000 int8\n"
     ]
    }
   ],
   "source": [
    "X_train, X_test, y_train, y_test = states.T[IX_train,:],states.T[IX_test,:], vec_distances[IX_train], vec_distances[IX_test]\n",
    "print_inf(X_train)\n"
   ]
  },
  {
   "cell_type": "markdown",
   "id": "1bacd5d2",
   "metadata": {
    "papermill": {
     "duration": 0.014545,
     "end_time": "2024-01-22T15:13:46.284199",
     "exception": false,
     "start_time": "2024-01-22T15:13:46.269654",
     "status": "completed"
    },
    "tags": []
   },
   "source": [
    "# Train model"
   ]
  },
  {
   "cell_type": "code",
   "execution_count": 9,
   "id": "2e93bb11",
   "metadata": {
    "execution": {
     "iopub.execute_input": "2024-01-22T15:13:46.313969Z",
     "iopub.status.busy": "2024-01-22T15:13:46.312763Z",
     "iopub.status.idle": "2024-01-22T15:48:34.090370Z",
     "shell.execute_reply": "2024-01-22T15:48:34.088641Z"
    },
    "papermill": {
     "duration": 2087.796401,
     "end_time": "2024-01-22T15:48:34.094372",
     "exception": false,
     "start_time": "2024-01-22T15:13:46.297971",
     "status": "completed"
    },
    "tags": []
   },
   "outputs": [
    {
     "name": "stdout",
     "output_type": "stream",
     "text": [
      "iterations,  depth 10000 12\n",
      "R-squared score: 0.5449778672321939\n",
      "Pearson correlation score: 0.7454547829873828\n"
     ]
    },
    {
     "data": {
      "image/png": "[encoded data removed]",
      "text/plain": [
       "<Figure size 640x480 with 1 Axes>"
      ]
     },
     "metadata": {},
     "output_type": "display_data"
    },
    {
     "name": "stdout",
     "output_type": "stream",
     "text": [
      "R-squared score: 0.9441011308770362\n",
      "Pearson correlation score: 0.9811538778853931\n"
     ]
    },
    {
     "data": {
      "image/png": "[encoded data removed]",
      "text/plain": [
       "<Figure size 640x480 with 1 Axes>"
      ]
     },
     "metadata": {},
     "output_type": "display_data"
    },
    {
     "name": "stdout",
     "output_type": "stream",
     "text": [
      "time 2087.277636051178\n",
      "\n",
      "\n",
      "\n",
      "\n",
      "\n",
      "CPU times: user 2h 10min 8s, sys: 1min 7s, total: 2h 11min 15s\n",
      "Wall time: 34min 47s\n"
     ]
    }
   ],
   "source": [
    "%%time\n",
    "\n",
    "# from sklearn.model_selection import train_test_split\n",
    "\n",
    "# X_train, X_test, y_train, y_test = train_test_split(states.T[IX_selected,:], vec_distances[IX_selected], test_size=0.5, random_state=42)\n",
    "# X_train, X_test, y_train, y_test = states.T[IX_train,:],states.T[IX_test,:], vec_distances[IX_train], vec_distances[IX_test]\n",
    "# print_inf(X_train)\n",
    "\n",
    "import catboost\n",
    "from catboost import CatBoostRegressor, Pool\n",
    "\n",
    "for iterations in [10000]:# [50,500, 5000, 50_000]:\n",
    "    for depth in [12]: #3,6,7,10, 12,14,16]:\n",
    "        t0 = time.time()\n",
    "        print('iterations,  depth', iterations,  depth)\n",
    "        model = CatBoostRegressor(verbose=0, iterations=iterations,  # Number of boosting iterations\n",
    "                                  depth=depth,        # Depth of the trees\n",
    "                                 )\n",
    "        #                           learning_rate=0.1,  # Learning rate\n",
    "        #                           loss_function='RMSE',  # Specify your loss function (e.g., RMSE for regression)\n",
    "        #                           cat_features=categorical_features,  # Categorical features\n",
    "        #                           verbose=0)  # Set verbose to 0 to suppress output\n",
    "\n",
    "        model.fit(X_train, y_train)\n",
    "\n",
    "        # 100_000 Wall time: 21.3 s\n",
    "        # 900_000 Wall time  180 s = 3min\n",
    "\n",
    "        # N = 100_000\n",
    "        N = len(y_test)\n",
    "        y_test_loc = y_test[:N]\n",
    "        y_pred = model.predict(X_test[:N,:])\n",
    "        from sklearn.metrics import r2_score\n",
    "        r2 = r2_score(y_test_loc, y_pred)\n",
    "        print(f'R-squared score: {r2}')\n",
    "        corr = np.corrcoef( y_test_loc, y_pred)[0,1]\n",
    "        print(f'Pearson correlation score: {corr}')\n",
    "        plt.hist(y_pred, bins = 100)\n",
    "        plt.show()\n",
    "\n",
    "\n",
    "        y_pred = model.predict(X_train)\n",
    "        r2 = r2_score(y_train, y_pred)\n",
    "        print(f'R-squared score: {r2}')\n",
    "        corr = np.corrcoef( y_train, y_pred)[0,1]\n",
    "        print(f'Pearson correlation score: {corr}')\n",
    "        plt.hist(y_pred, bins = 100)\n",
    "        plt.show()\n",
    "\n",
    "        print('time', time.time() - t0 )\n",
    "        print(); print();print();print();print();\n",
    "        # Distance < 20\n",
    "        # (55000, 36) 1980000 int8\n",
    "        # R-squared score: 0.22630586744204906\n",
    "        # Pearson correlation score: 0.4785840616267646\n",
    "        # CPU times: user 43.1 s, sys: 1.52 s, total: 44.6 s\n",
    "        # Wall time: 13.2 s\n",
    "\n",
    "        # 40, 0.5\n",
    "        # R-squared score: 0.37712647629640383\n",
    "        # Pearson correlation score: 0.615966159849377\n",
    "        # CPU times: user 1min 47s, sys: 1.73 s, total: 1min 49s\n",
    "        # Wall time: 30.9 s\n"
   ]
  },
  {
   "cell_type": "markdown",
   "id": "960ebe61",
   "metadata": {
    "papermill": {
     "duration": 0.017017,
     "end_time": "2024-01-22T15:48:34.128493",
     "exception": false,
     "start_time": "2024-01-22T15:48:34.111476",
     "status": "completed"
    },
    "tags": []
   },
   "source": [
    "# Prepare for the ML-model drifted random walk"
   ]
  },
  {
   "cell_type": "markdown",
   "id": "65834be5",
   "metadata": {
    "papermill": {
     "duration": 0.015193,
     "end_time": "2024-01-22T15:48:34.160015",
     "exception": false,
     "start_time": "2024-01-22T15:48:34.144822",
     "status": "completed"
    },
    "tags": []
   },
   "source": [
    "# Load data for N-neigbourhood of the solution state\n",
    "\n",
    "Typically ALL states around the solution state till some depth - say 8 \n",
    "\n",
    "(May include some other states also - states from which we know root to solution, easy to check) \n"
   ]
  },
  {
   "cell_type": "code",
   "execution_count": 10,
   "id": "6870d75f",
   "metadata": {
    "execution": {
     "iopub.execute_input": "2024-01-22T15:48:34.195518Z",
     "iopub.status.busy": "2024-01-22T15:48:34.195033Z",
     "iopub.status.idle": "2024-01-22T15:49:21.986525Z",
     "shell.execute_reply": "2024-01-22T15:49:21.984112Z"
    },
    "papermill": {
     "duration": 47.836002,
     "end_time": "2024-01-22T15:49:22.012355",
     "exception": false,
     "start_time": "2024-01-22T15:48:34.176353",
     "status": "completed"
    },
    "tags": []
   },
   "outputs": [
    {
     "name": "stdout",
     "output_type": "stream",
     "text": [
      "(208942509,) 1671540072 int64\n",
      "(208942509,) 1671540072 int64\n",
      "(36,) 288 int64\n",
      "(208942509,) 1671540072 int64\n",
      "CPU times: user 17.1 s, sys: 4.88 s, total: 22 s\n",
      "Wall time: 47.8 s\n"
     ]
    }
   ],
   "source": [
    "%%time\n",
    "fn = '/kaggle/input/santa23-globe26-puzzles-states/distances_globe_26_till8solstateIX0.npy'\n",
    "vec_distances_around_solution_state = np.load(fn)\n",
    "print_inf(vec_distances_around_solution_state )\n",
    "fn = '/kaggle/input/santa23-globe26-puzzles-states/vec_hash_globe_26_till8solstateIX0.npy'\n",
    "vec_hash_around_solution_state = np.load(fn)\n",
    "print_inf(vec_hash_around_solution_state )\n",
    "fn = '/kaggle/input/santa23-globe26-puzzles-states/vec_to_create_hash.npy'\n",
    "vec_to_create_hash = np.load(fn)\n",
    "print_inf(vec_to_create_hash )\n",
    "\n",
    "IX_sort_vec_hash_around_solution_state  = np.argsort(vec_hash_around_solution_state)\n",
    "vec_hash_around_solution_state_sorted = vec_hash_around_solution_state[IX_sort_vec_hash_around_solution_state] # To speed-up later search \n",
    "print_inf( vec_hash_around_solution_state_sorted )\n"
   ]
  },
  {
   "cell_type": "markdown",
   "id": "2e399f18",
   "metadata": {
    "papermill": {
     "duration": 0.01565,
     "end_time": "2024-01-22T15:49:22.043664",
     "exception": false,
     "start_time": "2024-01-22T15:49:22.028014",
     "status": "completed"
    },
    "tags": []
   },
   "source": [
    "# Load all moves matrices (v-stacked)"
   ]
  },
  {
   "cell_type": "code",
   "execution_count": 11,
   "id": "21330fb7",
   "metadata": {
    "execution": {
     "iopub.execute_input": "2024-01-22T15:49:22.082237Z",
     "iopub.status.busy": "2024-01-22T15:49:22.080403Z",
     "iopub.status.idle": "2024-01-22T15:49:22.102811Z",
     "shell.execute_reply": "2024-01-22T15:49:22.101588Z"
    },
    "papermill": {
     "duration": 0.045672,
     "end_time": "2024-01-22T15:49:22.105922",
     "exception": false,
     "start_time": "2024-01-22T15:49:22.060250",
     "status": "completed"
    },
    "tags": []
   },
   "outputs": [
    {
     "name": "stdout",
     "output_type": "stream",
     "text": [
      "CPU times: user 2.29 ms, sys: 0 ns, total: 2.29 ms\n",
      "Wall time: 6.38 ms\n"
     ]
    },
    {
     "data": {
      "text/plain": [
       "array([[0, 1, 0, ..., 0, 0, 0],\n",
       "       [0, 0, 1, ..., 0, 0, 0],\n",
       "       [0, 0, 0, ..., 0, 0, 0],\n",
       "       ...,\n",
       "       [0, 0, 0, ..., 1, 0, 0],\n",
       "       [0, 0, 0, ..., 0, 1, 0],\n",
       "       [0, 0, 0, ..., 0, 0, 0]], dtype=int8)"
      ]
     },
     "execution_count": 11,
     "metadata": {},
     "output_type": "execute_result"
    }
   ],
   "source": [
    "%%time\n",
    "# fn = '/kaggle/input/santa23-cube2x2x2-states/all_move_matrices_vstacked_cube_222_count12_size24.npy'\n",
    "fn = '/kaggle/input/santa23-globe26-puzzles-states/all_move_matrices_vstacked_globe_26_count30_size36.npy'\n",
    "all_move_matrices_vstacked = np.load(fn)\n",
    "all_move_matrices_vstacked"
   ]
  },
  {
   "cell_type": "code",
   "execution_count": 12,
   "id": "6e78a6ce",
   "metadata": {
    "execution": {
     "iopub.execute_input": "2024-01-22T15:49:22.141236Z",
     "iopub.status.busy": "2024-01-22T15:49:22.140355Z",
     "iopub.status.idle": "2024-01-22T15:49:22.170731Z",
     "shell.execute_reply": "2024-01-22T15:49:22.169473Z"
    },
    "papermill": {
     "duration": 0.051841,
     "end_time": "2024-01-22T15:49:22.173652",
     "exception": false,
     "start_time": "2024-01-22T15:49:22.121811",
     "status": "completed"
    },
    "tags": []
   },
   "outputs": [
    {
     "name": "stdout",
     "output_type": "stream",
     "text": [
      "CPU times: user 10 ms, sys: 0 ns, total: 10 ms\n",
      "Wall time: 12.5 ms\n"
     ]
    },
    {
     "data": {
      "text/html": [
       "<div>\n",
       "<style scoped>\n",
       "    .dataframe tbody tr th:only-of-type {\n",
       "        vertical-align: middle;\n",
       "    }\n",
       "\n",
       "    .dataframe tbody tr th {\n",
       "        vertical-align: top;\n",
       "    }\n",
       "\n",
       "    .dataframe thead th {\n",
       "        text-align: right;\n",
       "    }\n",
       "</style>\n",
       "<table border=\"1\" class=\"dataframe\">\n",
       "  <thead>\n",
       "    <tr style=\"text-align: right;\">\n",
       "      <th></th>\n",
       "      <th>0</th>\n",
       "    </tr>\n",
       "  </thead>\n",
       "  <tbody>\n",
       "    <tr>\n",
       "      <th>0</th>\n",
       "      <td>r0</td>\n",
       "    </tr>\n",
       "    <tr>\n",
       "      <th>1</th>\n",
       "      <td>r1</td>\n",
       "    </tr>\n",
       "    <tr>\n",
       "      <th>2</th>\n",
       "      <td>r2</td>\n",
       "    </tr>\n",
       "    <tr>\n",
       "      <th>3</th>\n",
       "      <td>f0</td>\n",
       "    </tr>\n",
       "    <tr>\n",
       "      <th>4</th>\n",
       "      <td>f1</td>\n",
       "    </tr>\n",
       "    <tr>\n",
       "      <th>5</th>\n",
       "      <td>f2</td>\n",
       "    </tr>\n",
       "    <tr>\n",
       "      <th>6</th>\n",
       "      <td>f3</td>\n",
       "    </tr>\n",
       "    <tr>\n",
       "      <th>7</th>\n",
       "      <td>f4</td>\n",
       "    </tr>\n",
       "    <tr>\n",
       "      <th>8</th>\n",
       "      <td>f5</td>\n",
       "    </tr>\n",
       "    <tr>\n",
       "      <th>9</th>\n",
       "      <td>f6</td>\n",
       "    </tr>\n",
       "    <tr>\n",
       "      <th>10</th>\n",
       "      <td>f7</td>\n",
       "    </tr>\n",
       "    <tr>\n",
       "      <th>11</th>\n",
       "      <td>f8</td>\n",
       "    </tr>\n",
       "    <tr>\n",
       "      <th>12</th>\n",
       "      <td>f9</td>\n",
       "    </tr>\n",
       "    <tr>\n",
       "      <th>13</th>\n",
       "      <td>f10</td>\n",
       "    </tr>\n",
       "    <tr>\n",
       "      <th>14</th>\n",
       "      <td>f11</td>\n",
       "    </tr>\n",
       "    <tr>\n",
       "      <th>15</th>\n",
       "      <td>-r0</td>\n",
       "    </tr>\n",
       "    <tr>\n",
       "      <th>16</th>\n",
       "      <td>-r1</td>\n",
       "    </tr>\n",
       "    <tr>\n",
       "      <th>17</th>\n",
       "      <td>-r2</td>\n",
       "    </tr>\n",
       "    <tr>\n",
       "      <th>18</th>\n",
       "      <td>-f0</td>\n",
       "    </tr>\n",
       "    <tr>\n",
       "      <th>19</th>\n",
       "      <td>-f1</td>\n",
       "    </tr>\n",
       "    <tr>\n",
       "      <th>20</th>\n",
       "      <td>-f2</td>\n",
       "    </tr>\n",
       "    <tr>\n",
       "      <th>21</th>\n",
       "      <td>-f3</td>\n",
       "    </tr>\n",
       "    <tr>\n",
       "      <th>22</th>\n",
       "      <td>-f4</td>\n",
       "    </tr>\n",
       "    <tr>\n",
       "      <th>23</th>\n",
       "      <td>-f5</td>\n",
       "    </tr>\n",
       "    <tr>\n",
       "      <th>24</th>\n",
       "      <td>-f6</td>\n",
       "    </tr>\n",
       "    <tr>\n",
       "      <th>25</th>\n",
       "      <td>-f7</td>\n",
       "    </tr>\n",
       "    <tr>\n",
       "      <th>26</th>\n",
       "      <td>-f8</td>\n",
       "    </tr>\n",
       "    <tr>\n",
       "      <th>27</th>\n",
       "      <td>-f9</td>\n",
       "    </tr>\n",
       "    <tr>\n",
       "      <th>28</th>\n",
       "      <td>-f10</td>\n",
       "    </tr>\n",
       "    <tr>\n",
       "      <th>29</th>\n",
       "      <td>-f11</td>\n",
       "    </tr>\n",
       "  </tbody>\n",
       "</table>\n",
       "</div>"
      ],
      "text/plain": [
       "       0\n",
       "0     r0\n",
       "1     r1\n",
       "2     r2\n",
       "3     f0\n",
       "4     f1\n",
       "5     f2\n",
       "6     f3\n",
       "7     f4\n",
       "8     f5\n",
       "9     f6\n",
       "10    f7\n",
       "11    f8\n",
       "12    f9\n",
       "13   f10\n",
       "14   f11\n",
       "15   -r0\n",
       "16   -r1\n",
       "17   -r2\n",
       "18   -f0\n",
       "19   -f1\n",
       "20   -f2\n",
       "21   -f3\n",
       "22   -f4\n",
       "23   -f5\n",
       "24   -f6\n",
       "25   -f7\n",
       "26   -f8\n",
       "27   -f9\n",
       "28  -f10\n",
       "29  -f11"
      ]
     },
     "execution_count": 12,
     "metadata": {},
     "output_type": "execute_result"
    }
   ],
   "source": [
    "%%time\n",
    "# fn = '/kaggle/input/santa23-cube2x2x2-states/moves_names_cube_222_count12.csv'\n",
    "fn = '/kaggle/input/santa23-globe26-puzzles-states/moves_names_globe_26_count30.csv'\n",
    "df_moves_names = pd.read_csv(fn, index_col = 0)\n",
    "df_moves_names"
   ]
  },
  {
   "cell_type": "code",
   "execution_count": 13,
   "id": "29524a17",
   "metadata": {
    "execution": {
     "iopub.execute_input": "2024-01-22T15:49:22.210501Z",
     "iopub.status.busy": "2024-01-22T15:49:22.209487Z",
     "iopub.status.idle": "2024-01-22T15:49:22.220117Z",
     "shell.execute_reply": "2024-01-22T15:49:22.218941Z"
    },
    "papermill": {
     "duration": 0.032268,
     "end_time": "2024-01-22T15:49:22.223398",
     "exception": false,
     "start_time": "2024-01-22T15:49:22.191130",
     "status": "completed"
    },
    "tags": []
   },
   "outputs": [
    {
     "name": "stdout",
     "output_type": "stream",
     "text": [
      "0 r0 (36, 36)\n",
      "1 r1 (36, 36)\n",
      "2 r2 (36, 36)\n",
      "3 f0 (36, 36)\n",
      "4 f1 (36, 36)\n",
      "5 f2 (36, 36)\n",
      "6 f3 (36, 36)\n",
      "7 f4 (36, 36)\n",
      "8 f5 (36, 36)\n",
      "9 f6 (36, 36)\n",
      "10 f7 (36, 36)\n",
      "11 f8 (36, 36)\n",
      "12 f9 (36, 36)\n",
      "13 f10 (36, 36)\n",
      "14 f11 (36, 36)\n",
      "15 -r0 (36, 36)\n",
      "16 -r1 (36, 36)\n",
      "17 -r2 (36, 36)\n",
      "18 -f0 (36, 36)\n",
      "19 -f1 (36, 36)\n",
      "20 -f2 (36, 36)\n",
      "21 -f3 (36, 36)\n",
      "22 -f4 (36, 36)\n",
      "23 -f5 (36, 36)\n",
      "24 -f6 (36, 36)\n",
      "25 -f7 (36, 36)\n",
      "26 -f8 (36, 36)\n",
      "27 -f9 (36, 36)\n",
      "28 -f10 (36, 36)\n",
      "29 -f11 (36, 36)\n"
     ]
    }
   ],
   "source": [
    "dict_move_name_to_matrix = {}\n",
    "for k in range(len(df_moves_names)):\n",
    "    n = all_move_matrices_vstacked.shape[1]\n",
    "    mat = all_move_matrices_vstacked[k*n:(k+1)*n,:]\n",
    "#     print(mat.shape)\n",
    "    nm = df_moves_names.iloc[k,0]\n",
    "    dict_move_name_to_matrix[nm] = mat\n",
    "    print(k,nm, mat.shape)"
   ]
  },
  {
   "cell_type": "markdown",
   "id": "6b5b9592",
   "metadata": {
    "papermill": {
     "duration": 0.016231,
     "end_time": "2024-01-22T15:49:22.256170",
     "exception": false,
     "start_time": "2024-01-22T15:49:22.239939",
     "status": "completed"
    },
    "tags": []
   },
   "source": [
    "# Main Procedure - Search path to charted part - random walk with drift by ML-model"
   ]
  },
  {
   "cell_type": "code",
   "execution_count": 14,
   "id": "8cb5c527",
   "metadata": {
    "execution": {
     "iopub.execute_input": "2024-01-22T15:49:22.296317Z",
     "iopub.status.busy": "2024-01-22T15:49:22.295347Z",
     "iopub.status.idle": "2024-01-22T15:49:22.303190Z",
     "shell.execute_reply": "2024-01-22T15:49:22.301609Z"
    },
    "papermill": {
     "duration": 0.033002,
     "end_time": "2024-01-22T15:49:22.306085",
     "exception": false,
     "start_time": "2024-01-22T15:49:22.273083",
     "status": "completed"
    },
    "tags": []
   },
   "outputs": [
    {
     "name": "stdout",
     "output_type": "stream",
     "text": [
      "[ 0 11  2  9  8  1  1  9 10  9  1  2  5  5  5  6  6  6  7  7  7  4  4  4\n",
      "  8  0 11  3 11  8  3  2 10  3  0 10]\n"
     ]
    }
   ],
   "source": [
    "# 356:  [11  9  8  1  2  8  0 10  1 11  2 11  4  4  5  5  5  6  6  6  7  7  7  4   9 10  0 10  8  3  2  9  0  3  1  3]\n",
    "print(vec_initial_state)"
   ]
  },
  {
   "cell_type": "code",
   "execution_count": 15,
   "id": "45f26bd2",
   "metadata": {
    "execution": {
     "iopub.execute_input": "2024-01-22T15:49:22.343941Z",
     "iopub.status.busy": "2024-01-22T15:49:22.342935Z",
     "iopub.status.idle": "2024-01-22T15:49:22.350971Z",
     "shell.execute_reply": "2024-01-22T15:49:22.349422Z"
    },
    "papermill": {
     "duration": 0.029844,
     "end_time": "2024-01-22T15:49:22.353696",
     "exception": false,
     "start_time": "2024-01-22T15:49:22.323852",
     "status": "completed"
    },
    "tags": []
   },
   "outputs": [
    {
     "name": "stdout",
     "output_type": "stream",
     "text": [
      "20000 31 3\n"
     ]
    }
   ],
   "source": [
    "print(n_random_walks, n_steps_random_walk , n_best_model_candidates_to_choose_for_random_walk)"
   ]
  },
  {
   "cell_type": "code",
   "execution_count": 16,
   "id": "d21cdf45",
   "metadata": {
    "execution": {
     "iopub.execute_input": "2024-01-22T15:49:22.389137Z",
     "iopub.status.busy": "2024-01-22T15:49:22.388720Z",
     "iopub.status.idle": "2024-01-22T17:10:06.995026Z",
     "shell.execute_reply": "2024-01-22T17:10:06.992184Z"
    },
    "papermill": {
     "duration": 4844.628135,
     "end_time": "2024-01-22T17:10:06.998429",
     "exception": false,
     "start_time": "2024-01-22T15:49:22.370294",
     "status": "completed"
    },
    "tags": []
   },
   "outputs": [
    {
     "name": "stdout",
     "output_type": "stream",
     "text": [
      "i_trial: 0 time 0.00\n",
      "i_trial: 50 time 13.67\n",
      "i_trial: 100 time 27.26\n",
      "i_trial: 150 time 40.83\n",
      "i_trial: 200 time 54.31\n",
      "i_trial: 250 time 67.85\n",
      "i_trial: 300 time 81.37\n",
      "i_trial: 350 time 94.95\n",
      "i_trial: 400 time 108.47\n",
      "i_trial: 450 time 122.12\n",
      "i_trial: 500 time 135.87\n",
      "i_trial: 550 time 149.59\n",
      "i_trial: 600 time 163.19\n",
      "i_trial: 650 time 176.71\n",
      "i_trial: 700 time 190.39\n",
      "i_trial: 750 time 203.94\n",
      "i_trial: 800 time 217.49\n",
      "i_trial: 850 time 231.03\n",
      "i_trial: 900 time 244.46\n",
      "i_trial: 950 time 258.04\n",
      "i_trial: 1000 time 271.54\n",
      "i_trial: 1050 time 285.00\n",
      "i_trial: 1100 time 298.57\n",
      "i_trial: 1150 time 312.04\n",
      "i_trial: 1200 time 325.57\n",
      "i_trial: 1250 time 338.98\n",
      "i_trial: 1300 time 352.47\n",
      "i_trial: 1350 time 365.85\n",
      "i_trial: 1400 time 379.60\n",
      "i_trial: 1450 time 393.00\n",
      "i_trial: 1500 time 406.56\n",
      "i_trial: 1550 time 420.06\n",
      "i_trial: 1600 time 433.57\n",
      "i_trial: 1650 time 447.03\n",
      "i_trial: 1700 time 460.52\n",
      "i_trial: 1750 time 473.97\n",
      "i_trial: 1800 time 487.41\n",
      "i_trial: 1850 time 500.91\n",
      "i_trial: 1900 time 514.56\n",
      "i_trial: 1950 time 528.02\n",
      "i_trial: 2000 time 541.53\n",
      "i_trial: 2050 time 554.91\n",
      "i_trial: 2100 time 568.44\n",
      "i_trial: 2150 time 581.78\n",
      "i_trial: 2200 time 595.23\n",
      "i_trial: 2250 time 608.61\n",
      "i_trial: 2300 time 622.17\n",
      "i_trial: 2350 time 635.53\n",
      "i_trial: 2400 time 649.26\n",
      "i_trial: 2450 time 662.73\n",
      "i_trial: 2500 time 676.23\n",
      "i_trial: 2550 time 689.77\n",
      "i_trial: 2600 time 703.33\n",
      "i_trial: 2650 time 716.79\n",
      "i_trial: 2700 time 730.36\n",
      "i_trial: 2750 time 743.78\n",
      "i_trial: 2800 time 757.28\n",
      "i_trial: 2850 time 770.60\n",
      "i_trial: 2900 time 783.97\n",
      "i_trial: 2950 time 797.31\n",
      "i_trial: 3000 time 810.66\n",
      "i_trial: 3050 time 824.09\n",
      "i_trial: 3100 time 837.65\n",
      "i_trial: 3150 time 851.02\n",
      "i_trial: 3200 time 864.58\n",
      "i_trial: 3250 time 878.18\n",
      "i_trial: 3300 time 891.47\n",
      "i_trial: 3350 time 904.67\n",
      "i_trial: 3400 time 918.01\n",
      "i_trial: 3450 time 931.29\n",
      "i_trial: 3500 time 944.59\n",
      "i_trial: 3550 time 957.84\n",
      "i_trial: 3600 time 971.18\n",
      "Found. i_trial:  3626  i_step: 29 time: 978.3\n",
      "list_save_moves [26, 7, 18, 0, 18, 26, 7, 3, 26, 16, 6, 9, 16, 16, 23, 2, 4, 14, 6, 15, 25, 0, 29, 23, 21, 19, 2, 3, 25]\n",
      "['-f8', 'f4', '-f0', 'r0', '-f0', '-f8', 'f4', 'f0', '-f8', '-r1', 'f3', 'f6', '-r1', '-r1', '-f5', 'r2', 'f1', 'f11', 'f3', '-r0', '-f7', 'r0', '-f11', '-f5', '-f3', '-f1', 'r2', 'f0', '-f7']\n",
      "-f8.f4.-f0.r0.-f0.-f8.f4.f0.-f8.-r1.f3.f6.-r1.-r1.-f5.r2.f1.f11.f3.-r0.-f7.r0.-f11.-f5.-f3.-f1.r2.f0.-f7\n",
      "Found shorter path. Length: 29\n",
      "\n",
      "i_trial: 3650 time 983.85\n",
      "i_trial: 3700 time 995.95\n",
      "i_trial: 3750 time 1007.90\n",
      "i_trial: 3800 time 1019.86\n",
      "i_trial: 3850 time 1031.95\n",
      "i_trial: 3900 time 1043.90\n",
      "i_trial: 3950 time 1055.94\n",
      "i_trial: 4000 time 1067.83\n",
      "i_trial: 4050 time 1079.75\n",
      "i_trial: 4100 time 1091.69\n",
      "i_trial: 4150 time 1103.75\n",
      "i_trial: 4200 time 1115.70\n",
      "i_trial: 4250 time 1127.77\n",
      "i_trial: 4300 time 1139.77\n",
      "i_trial: 4350 time 1151.92\n",
      "i_trial: 4400 time 1163.95\n",
      "i_trial: 4450 time 1175.88\n",
      "i_trial: 4500 time 1187.90\n",
      "i_trial: 4550 time 1199.79\n",
      "i_trial: 4600 time 1211.81\n",
      "i_trial: 4650 time 1223.76\n",
      "i_trial: 4700 time 1235.75\n",
      "i_trial: 4750 time 1247.85\n",
      "i_trial: 4800 time 1260.10\n",
      "i_trial: 4850 time 1272.24\n",
      "i_trial: 4900 time 1284.32\n",
      "i_trial: 4950 time 1296.33\n",
      "i_trial: 5000 time 1308.36\n",
      "i_trial: 5050 time 1320.39\n",
      "i_trial: 5100 time 1332.43\n",
      "i_trial: 5150 time 1344.56\n",
      "i_trial: 5200 time 1356.64\n",
      "i_trial: 5250 time 1368.69\n",
      "i_trial: 5300 time 1380.79\n",
      "i_trial: 5350 time 1392.77\n",
      "i_trial: 5400 time 1405.00\n",
      "i_trial: 5450 time 1417.08\n",
      "i_trial: 5500 time 1429.18\n",
      "i_trial: 5550 time 1441.20\n",
      "i_trial: 5600 time 1453.19\n",
      "i_trial: 5650 time 1465.50\n",
      "i_trial: 5700 time 1477.55\n",
      "i_trial: 5750 time 1489.59\n",
      "i_trial: 5800 time 1501.69\n",
      "i_trial: 5850 time 1513.91\n",
      "i_trial: 5900 time 1525.97\n",
      "i_trial: 5950 time 1538.04\n",
      "i_trial: 6000 time 1550.04\n",
      "i_trial: 6050 time 1562.19\n",
      "i_trial: 6100 time 1574.23\n",
      "i_trial: 6150 time 1586.45\n",
      "i_trial: 6200 time 1598.47\n",
      "i_trial: 6250 time 1610.48\n",
      "i_trial: 6300 time 1622.59\n",
      "i_trial: 6350 time 1634.59\n",
      "i_trial: 6400 time 1646.61\n",
      "i_trial: 6450 time 1658.67\n",
      "i_trial: 6500 time 1670.66\n",
      "i_trial: 6550 time 1682.62\n",
      "i_trial: 6600 time 1694.67\n",
      "i_trial: 6650 time 1706.66\n",
      "i_trial: 6700 time 1718.60\n",
      "i_trial: 6750 time 1730.67\n",
      "i_trial: 6800 time 1742.63\n",
      "i_trial: 6850 time 1754.64\n",
      "i_trial: 6900 time 1766.54\n",
      "i_trial: 6950 time 1778.57\n",
      "i_trial: 7000 time 1790.50\n",
      "i_trial: 7050 time 1802.40\n",
      "i_trial: 7100 time 1814.34\n",
      "i_trial: 7150 time 1826.37\n",
      "i_trial: 7200 time 1838.36\n",
      "i_trial: 7250 time 1850.29\n",
      "i_trial: 7300 time 1862.25\n",
      "i_trial: 7350 time 1874.17\n",
      "i_trial: 7400 time 1886.14\n",
      "i_trial: 7450 time 1898.13\n",
      "i_trial: 7500 time 1910.08\n",
      "i_trial: 7550 time 1922.04\n",
      "i_trial: 7600 time 1933.94\n",
      "i_trial: 7650 time 1945.99\n",
      "i_trial: 7700 time 1957.89\n",
      "i_trial: 7750 time 1969.84\n",
      "i_trial: 7800 time 1981.76\n",
      "i_trial: 7850 time 1993.79\n",
      "i_trial: 7900 time 2005.65\n",
      "i_trial: 7950 time 2017.67\n",
      "i_trial: 8000 time 2029.58\n",
      "i_trial: 8050 time 2041.63\n",
      "i_trial: 8100 time 2053.54\n",
      "i_trial: 8150 time 2065.29\n",
      "i_trial: 8200 time 2077.18\n",
      "i_trial: 8250 time 2088.85\n",
      "i_trial: 8300 time 2100.62\n",
      "i_trial: 8350 time 2112.40\n",
      "i_trial: 8400 time 2124.12\n",
      "i_trial: 8450 time 2135.92\n",
      "i_trial: 8500 time 2147.77\n",
      "i_trial: 8550 time 2159.64\n",
      "i_trial: 8600 time 2171.64\n",
      "i_trial: 8650 time 2183.57\n",
      "i_trial: 8700 time 2195.26\n",
      "i_trial: 8750 time 2207.16\n",
      "i_trial: 8800 time 2218.90\n",
      "i_trial: 8850 time 2230.69\n",
      "i_trial: 8900 time 2242.49\n",
      "i_trial: 8950 time 2254.31\n",
      "i_trial: 9000 time 2266.30\n",
      "i_trial: 9050 time 2278.13\n",
      "i_trial: 9100 time 2290.10\n",
      "i_trial: 9150 time 2302.14\n",
      "i_trial: 9200 time 2314.11\n",
      "i_trial: 9250 time 2326.14\n",
      "i_trial: 9300 time 2337.90\n",
      "i_trial: 9350 time 2349.64\n",
      "i_trial: 9400 time 2361.41\n",
      "i_trial: 9450 time 2373.09\n",
      "i_trial: 9500 time 2384.83\n",
      "i_trial: 9550 time 2396.65\n",
      "i_trial: 9600 time 2408.41\n",
      "i_trial: 9650 time 2420.30\n",
      "i_trial: 9700 time 2432.06\n",
      "i_trial: 9750 time 2443.82\n",
      "i_trial: 9800 time 2455.68\n",
      "i_trial: 9850 time 2467.51\n",
      "i_trial: 9900 time 2479.26\n",
      "i_trial: 9950 time 2491.07\n",
      "i_trial: 10000 time 2502.80\n",
      "i_trial: 10050 time 2514.64\n",
      "i_trial: 10100 time 2526.34\n",
      "i_trial: 10150 time 2538.09\n",
      "i_trial: 10200 time 2549.93\n",
      "i_trial: 10250 time 2561.76\n",
      "i_trial: 10300 time 2573.53\n",
      "i_trial: 10350 time 2585.34\n",
      "i_trial: 10400 time 2597.05\n",
      "i_trial: 10450 time 2608.73\n",
      "i_trial: 10500 time 2620.42\n",
      "i_trial: 10550 time 2632.11\n",
      "i_trial: 10600 time 2643.85\n",
      "i_trial: 10650 time 2655.50\n",
      "i_trial: 10700 time 2667.22\n",
      "i_trial: 10750 time 2679.02\n",
      "i_trial: 10800 time 2690.74\n",
      "i_trial: 10850 time 2702.52\n",
      "i_trial: 10900 time 2714.28\n",
      "i_trial: 10950 time 2726.04\n",
      "i_trial: 11000 time 2737.89\n",
      "i_trial: 11050 time 2749.70\n",
      "i_trial: 11100 time 2761.45\n",
      "i_trial: 11150 time 2773.24\n",
      "i_trial: 11200 time 2784.95\n",
      "i_trial: 11250 time 2796.77\n",
      "i_trial: 11300 time 2808.47\n",
      "i_trial: 11350 time 2820.14\n",
      "i_trial: 11400 time 2831.96\n",
      "i_trial: 11450 time 2843.79\n",
      "i_trial: 11500 time 2855.57\n",
      "i_trial: 11550 time 2867.33\n",
      "i_trial: 11600 time 2878.92\n",
      "i_trial: 11650 time 2890.61\n",
      "i_trial: 11700 time 2902.25\n",
      "i_trial: 11750 time 2913.91\n",
      "i_trial: 11800 time 2925.72\n",
      "i_trial: 11850 time 2937.50\n",
      "i_trial: 11900 time 2949.25\n",
      "i_trial: 11950 time 2960.97\n",
      "i_trial: 12000 time 2972.51\n",
      "i_trial: 12050 time 2984.19\n",
      "i_trial: 12100 time 2995.77\n",
      "i_trial: 12150 time 3007.47\n",
      "i_trial: 12200 time 3019.31\n",
      "i_trial: 12250 time 3031.03\n",
      "i_trial: 12300 time 3042.76\n",
      "i_trial: 12350 time 3054.54\n",
      "i_trial: 12400 time 3066.21\n",
      "i_trial: 12450 time 3077.81\n",
      "i_trial: 12500 time 3089.29\n",
      "i_trial: 12550 time 3100.72\n",
      "i_trial: 12600 time 3112.23\n",
      "i_trial: 12650 time 3123.76\n",
      "i_trial: 12700 time 3135.33\n",
      "i_trial: 12750 time 3147.05\n",
      "i_trial: 12800 time 3158.66\n",
      "i_trial: 12850 time 3170.27\n",
      "i_trial: 12900 time 3181.91\n",
      "i_trial: 12950 time 3193.50\n",
      "i_trial: 13000 time 3205.31\n",
      "i_trial: 13050 time 3216.86\n",
      "i_trial: 13100 time 3228.34\n",
      "i_trial: 13150 time 3239.94\n",
      "i_trial: 13200 time 3251.53\n",
      "i_trial: 13250 time 3263.17\n",
      "i_trial: 13300 time 3274.78\n",
      "i_trial: 13350 time 3286.36\n",
      "i_trial: 13400 time 3297.98\n",
      "i_trial: 13450 time 3309.63\n",
      "i_trial: 13500 time 3321.29\n",
      "i_trial: 13550 time 3332.88\n",
      "i_trial: 13600 time 3344.42\n",
      "i_trial: 13650 time 3355.98\n",
      "i_trial: 13700 time 3367.66\n",
      "i_trial: 13750 time 3379.26\n",
      "i_trial: 13800 time 3390.84\n",
      "i_trial: 13850 time 3402.52\n",
      "i_trial: 13900 time 3414.11\n",
      "i_trial: 13950 time 3425.70\n",
      "i_trial: 14000 time 3437.24\n",
      "i_trial: 14050 time 3448.78\n",
      "i_trial: 14100 time 3460.42\n",
      "i_trial: 14150 time 3472.00\n",
      "i_trial: 14200 time 3483.51\n",
      "i_trial: 14250 time 3495.21\n",
      "i_trial: 14300 time 3506.84\n",
      "i_trial: 14350 time 3518.53\n",
      "i_trial: 14400 time 3530.17\n",
      "i_trial: 14450 time 3541.77\n",
      "i_trial: 14500 time 3553.40\n",
      "i_trial: 14550 time 3564.98\n",
      "i_trial: 14600 time 3576.62\n",
      "i_trial: 14650 time 3588.28\n",
      "i_trial: 14700 time 3599.93\n",
      "i_trial: 14750 time 3611.57\n",
      "i_trial: 14800 time 3623.37\n",
      "i_trial: 14850 time 3635.17\n",
      "i_trial: 14900 time 3647.02\n",
      "i_trial: 14950 time 3658.76\n",
      "i_trial: 15000 time 3670.48\n",
      "i_trial: 15050 time 3682.33\n",
      "i_trial: 15100 time 3694.01\n",
      "i_trial: 15150 time 3705.66\n",
      "i_trial: 15200 time 3717.37\n",
      "i_trial: 15250 time 3729.03\n",
      "i_trial: 15300 time 3740.78\n",
      "i_trial: 15350 time 3752.51\n",
      "i_trial: 15400 time 3764.23\n",
      "i_trial: 15450 time 3776.00\n",
      "i_trial: 15500 time 3787.72\n",
      "i_trial: 15550 time 3799.41\n",
      "i_trial: 15600 time 3811.17\n",
      "i_trial: 15650 time 3822.93\n",
      "i_trial: 15700 time 3834.72\n",
      "i_trial: 15750 time 3846.49\n",
      "i_trial: 15800 time 3858.24\n",
      "i_trial: 15850 time 3870.10\n",
      "i_trial: 15900 time 3881.93\n",
      "i_trial: 15950 time 3893.69\n",
      "i_trial: 16000 time 3905.53\n",
      "i_trial: 16050 time 3917.26\n",
      "i_trial: 16100 time 3928.89\n",
      "i_trial: 16150 time 3940.47\n",
      "i_trial: 16200 time 3952.10\n",
      "i_trial: 16250 time 3963.87\n",
      "i_trial: 16300 time 3975.67\n",
      "i_trial: 16350 time 3987.62\n",
      "i_trial: 16400 time 3999.71\n",
      "i_trial: 16450 time 4011.60\n",
      "i_trial: 16500 time 4023.48\n",
      "i_trial: 16550 time 4035.17\n",
      "i_trial: 16600 time 4046.86\n",
      "i_trial: 16650 time 4058.70\n",
      "i_trial: 16700 time 4070.46\n",
      "i_trial: 16750 time 4082.16\n",
      "i_trial: 16800 time 4094.00\n",
      "i_trial: 16850 time 4105.73\n",
      "i_trial: 16900 time 4117.51\n",
      "i_trial: 16950 time 4129.29\n",
      "i_trial: 17000 time 4141.05\n",
      "i_trial: 17050 time 4152.88\n",
      "i_trial: 17100 time 4164.61\n",
      "i_trial: 17150 time 4176.37\n",
      "i_trial: 17200 time 4188.20\n",
      "i_trial: 17250 time 4199.89\n",
      "i_trial: 17300 time 4211.61\n",
      "i_trial: 17350 time 4223.34\n",
      "i_trial: 17400 time 4235.23\n",
      "i_trial: 17450 time 4247.74\n",
      "i_trial: 17500 time 4259.43\n",
      "i_trial: 17550 time 4271.17\n",
      "i_trial: 17600 time 4282.97\n",
      "i_trial: 17650 time 4294.70\n",
      "i_trial: 17700 time 4306.49\n",
      "i_trial: 17750 time 4318.15\n",
      "i_trial: 17800 time 4329.85\n",
      "i_trial: 17850 time 4341.69\n",
      "i_trial: 17900 time 4353.40\n",
      "i_trial: 17950 time 4365.06\n",
      "i_trial: 18000 time 4376.80\n",
      "i_trial: 18050 time 4388.47\n",
      "i_trial: 18100 time 4400.19\n",
      "i_trial: 18150 time 4411.85\n",
      "i_trial: 18200 time 4423.56\n",
      "i_trial: 18250 time 4435.29\n",
      "i_trial: 18300 time 4446.93\n",
      "i_trial: 18350 time 4458.64\n",
      "i_trial: 18400 time 4470.38\n",
      "i_trial: 18450 time 4482.09\n",
      "i_trial: 18500 time 4493.87\n",
      "i_trial: 18550 time 4505.53\n",
      "i_trial: 18600 time 4517.13\n",
      "i_trial: 18650 time 4528.75\n",
      "i_trial: 18700 time 4540.41\n",
      "i_trial: 18750 time 4552.01\n",
      "i_trial: 18800 time 4563.72\n",
      "i_trial: 18850 time 4575.36\n",
      "i_trial: 18900 time 4587.08\n",
      "i_trial: 18950 time 4598.71\n",
      "i_trial: 19000 time 4610.43\n",
      "i_trial: 19050 time 4622.24\n",
      "i_trial: 19100 time 4633.93\n",
      "i_trial: 19150 time 4645.67\n",
      "i_trial: 19200 time 4657.41\n",
      "i_trial: 19250 time 4669.02\n",
      "i_trial: 19300 time 4680.66\n",
      "i_trial: 19350 time 4692.42\n",
      "i_trial: 19400 time 4704.20\n",
      "i_trial: 19450 time 4715.97\n",
      "i_trial: 19500 time 4727.68\n",
      "i_trial: 19550 time 4739.25\n",
      "i_trial: 19600 time 4750.88\n",
      "i_trial: 19650 time 4762.45\n",
      "i_trial: 19700 time 4774.08\n",
      "i_trial: 19750 time 4785.79\n",
      "i_trial: 19800 time 4797.42\n",
      "i_trial: 19850 time 4809.13\n",
      "i_trial: 19900 time 4820.81\n",
      "i_trial: 19950 time 4832.42\n",
      "\n",
      "\n",
      "Count found paths:  1\n",
      "Moves indexes for the shortest path: [26, 7, 18, 0, 18, 26, 7, 3, 26, 16, 6, 9, 16, 16, 23, 2, 4, 14, 6, 15, 25, 0, 29, 23, 21, 19, 2, 3, 25]\n",
      "Names: ['-f8', 'f4', '-f0', 'r0', '-f0', '-f8', 'f4', 'f0', '-f8', '-r1', 'f3', 'f6', '-r1', '-r1', '-f5', 'r2', 'f1', 'f11', 'f3', '-r0', '-f7', 'r0', '-f11', '-f5', '-f3', '-f1', 'r2', 'f0', '-f7']\n",
      "String format: -f8.f4.-f0.r0.-f0.-f8.f4.f0.-f8.-r1.f3.f6.-r1.-r1.-f5.r2.f1.f11.f3.-r0.-f7.r0.-f11.-f5.-f3.-f1.r2.f0.-f7\n",
      "1 [29]\n"
     ]
    },
    {
     "data": {
      "image/png": "[encoded data removed]",
      "text/plain": [
       "<Figure size 640x480 with 1 Axes>"
      ]
     },
     "metadata": {},
     "output_type": "display_data"
    },
    {
     "name": "stdout",
     "output_type": "stream",
     "text": [
      "CPU times: user 1h 25min 1s, sys: 2min 57s, total: 1h 27min 58s\n",
      "Wall time: 1h 20min 44s\n"
     ]
    }
   ],
   "source": [
    "%%time\n",
    "import time\n",
    "t0 = time.time()\n",
    "n_steps_random_walk_loc = n_steps_random_walk\n",
    "ms =  all_move_matrices_vstacked.shape[1]   \n",
    "i_found = 0; len_shortest_found_path = np.inf; list_save_moves_shortest = []; list_lens_of_paths_found = []\n",
    "for i_trial in range(n_random_walks): # n_random_walks= 10_000\n",
    "    if (i_trial%50 == 0): print('i_trial:', i_trial, 'time %.2f'%(time.time() - t0 ) )\n",
    "    current_state = vec_initial_state.copy()\n",
    "    list_save_moves = []\n",
    "    for i_step in range(1, n_steps_random_walk_loc+1): #  n_steps_random_walk = 100\n",
    "        new_states_vstacked = np.dot(all_move_matrices_vstacked, current_state).reshape(-1,ms ) # Apply all moves (AT ONCE)\n",
    "        dist_predicts = model.predict(new_states_vstacked)\n",
    "        IX_move = np.argsort(dist_predicts)[np.random.randint(n_best_model_candidates_to_choose_for_random_walk)] # Choose randomly one of the N-best candidates by model\n",
    "        list_save_moves.append(IX_move)\n",
    "        current_state = new_states_vstacked[IX_move,:]\n",
    "        current_hash = np.dot(vec_to_create_hash,current_state )\n",
    "        IX_check_found_desired =  np.searchsorted(vec_hash_around_solution_state_sorted, [current_hash] )[0]\n",
    "        if (IX_check_found_desired <  len(vec_hash_around_solution_state_sorted) ) and (vec_hash_around_solution_state_sorted[IX_check_found_desired] == current_hash):\n",
    "            i_found += 1\n",
    "            list_lens_of_paths_found.append( len( list_save_moves )  )\n",
    "            n_steps_random_walk_loc = len( list_save_moves ) - 1 ############ Next trials we will search for SHORTER path\n",
    "            # \n",
    "            print('Found. i_trial: ', i_trial , ' i_step:',  i_step, 'time: %.1f'%(time.time() - t0) )\n",
    "            print('list_save_moves', list_save_moves) \n",
    "            l2 = [df_moves_names.iat[ itmp, 0 ]  for itmp in list_save_moves ]\n",
    "            print(l2)\n",
    "            str_path = '.'.join(map(str, l2))\n",
    "            print(str_path)\n",
    "            if len(list_save_moves) < len_shortest_found_path:\n",
    "                list_save_moves_shortest = list_save_moves.copy()\n",
    "                len_shortest_found_path = len( list_save_moves_shortest )\n",
    "                print('Found shorter path. Length:', len( list_save_moves) )\n",
    "            print()\n",
    "            break\n",
    "\n",
    "if i_found > 0:            \n",
    "    print()\n",
    "    print()\n",
    "    print('Count found paths: ', i_found )\n",
    "    print('Moves indexes for the shortest path:', list_save_moves_shortest )\n",
    "    list_save_moves_shortest_names = [df_moves_names.iat[ itmp, 0 ]  for itmp in list_save_moves_shortest ]\n",
    "    print('Names:', list_save_moves_shortest_names)\n",
    "    str_path_first_stage_random_walk_search = '.'.join(map(str, list_save_moves_shortest_names))\n",
    "    print('String format:', str_path_first_stage_random_walk_search)\n",
    "\n",
    "    print(len(list_lens_of_paths_found), list_lens_of_paths_found )\n",
    "    plt.hist(list_lens_of_paths_found)\n",
    "    plt.title('Lengths of found paths', fontsize = 20 )\n",
    "    plt.show()"
   ]
  },
  {
   "cell_type": "code",
   "execution_count": 17,
   "id": "0cf18aca",
   "metadata": {
    "execution": {
     "iopub.execute_input": "2024-01-22T17:10:07.114336Z",
     "iopub.status.busy": "2024-01-22T17:10:07.113803Z",
     "iopub.status.idle": "2024-01-22T17:10:07.123255Z",
     "shell.execute_reply": "2024-01-22T17:10:07.122232Z"
    },
    "papermill": {
     "duration": 0.070285,
     "end_time": "2024-01-22T17:10:07.125794",
     "exception": false,
     "start_time": "2024-01-22T17:10:07.055509",
     "status": "completed"
    },
    "tags": []
   },
   "outputs": [],
   "source": [
    "# Some results\n",
    "\n",
    "# Puzzle 355\n",
    "# Found. i_trial:  546  i_step: 31 time: 396.0\n",
    "# list_save_moves [19, 26, 16, 14, 22, 22, 0, 21, 23, 9, 22, 15, 24, 29, 12, 4, 16, 5, 16, 22, 16, 13, 29, 14, 23, 25, 24, 14, 7, 8, 2, 2]\n",
    "# ['-f1', '-f8', '-r1', 'f11', '-f4', '-f4', 'r0', '-f3', '-f5', 'f6', '-f4', '-r0', '-f6', '-f11', 'f9', 'f1', '-r1', 'f2', '-r1', '-f4', '-r1', 'f10', '-f11', 'f11', '-f5', '-f7', '-f6', 'f11', 'f4', 'f5', 'r2', 'r2']\n",
    "\n",
    "# Found. i_trial:  302  i_step: 28 time: 247.9\n",
    "# list_save_moves [19, 26, 14, 0, 21, 23, 24, 16, 22, 15, 24, 29, 27, 16, 16, 19, 26, 16, 9, 3, 5, 8, 19, 3, 12, 26, 12, 26, 8]\n",
    "# ['-f1', '-f8', 'f11', 'r0', '-f3', '-f5', '-f6', '-r1', '-f4', '-r0', '-f6', '-f11', '-f9', '-r1', '-r1', '-f1', '-f8', '-r1', 'f6', 'f0', 'f2', 'f5', '-f1', 'f0', 'f9', '-f8', 'f9', '-f8', 'f5']\n",
    "# -f1.-f8.f11.r0.-f3.-f5.-f6.-r1.-f4.-r0.-f6.-f11.-f9.-r1.-r1.-f1.-f8.-r1.f6.f0.f2.f5.-f1.f0.f9.-f8.f9.-f8.f5\n",
    "# Found shorter path len: 29\n",
    "# list_save_moves_shortest = [19, 26, 14, 0, 21, 23, 24, 16, 22, 15, 24, 29, 27, 16, 16, 19, 26, 16, 9, 3, 5, 8, 19, 3, 12, 26, 12, 26, 8]\n",
    "\n",
    "# Puzzle 356\n",
    "# Found. i_trial:  494  i_step: 39 time: 203.8\n",
    "# list_save_moves [20, 17, 6, 19, 0, 16, 21, 27, 26, 24, 24, 27, 21, 11, 25, 0, 29, 8, 18, 0, 26, 17, 12, 20, 25, 26, 2, 15, 20, 20, 20, 0, 15, 20, 5, 5, 2, 27, 10]\n",
    "# ['-f2', '-r2', 'f3', '-f1', 'r0', '-r1', '-f3', '-f9', '-f8', '-f6', '-f6', '-f9', '-f3', 'f8', '-f7', 'r0', '-f11', 'f5', '-f0', 'r0', '-f8', '-r2', 'f9', '-f2', '-f7', '-f8', 'r2', '-r0', '-f2', '-f2', '-f2', 'r0', '-r0', '-f2', 'f2', 'f2', 'r2', '-f9', 'f7']\n",
    "# -f2.-r2.f3.-f1.r0.-r1.-f3.-f9.-f8.-f6.-f6.-f9.-f3.f8.-f7.r0.-f11.f5.-f0.r0.-f8.-r2.f9.-f2.-f7.-f8.r2.-r0.-f2.-f2.-f2.r0.-r0.-f2.f2.f2.r2.-f9.f7\n",
    "# Found shorter path len: 39\n",
    "\n",
    "# Found in version16 https://www.kaggle.com/code/alexandervc/santa23-globe26-modeling5?scriptVersionId=159879372\n",
    "# Found. i_trial:  492  i_step: 25 time: 202.4\n",
    "# list_save_moves [5, 0, 16, 20, 14, 28, 15, 5, 22, 4, 29, 2, 13, 10, 10, 25, 10, 25, 18, 13, 14, 0, 23, 15, 13]\n",
    "# ['f2', 'r0', '-r1', '-f2', 'f11', '-f10', '-r0', 'f2', '-f4', 'f1', '-f11', 'r2', 'f10', 'f7', 'f7', '-f7', 'f7', '-f7', '-f0', 'f10', 'f11', 'r0', '-f5', '-r0', 'f10']\n",
    "# f2.r0.-r1.-f2.f11.-f10.-r0.f2.-f4.f1.-f11.r2.f10.f7.f7.-f7.f7.-f7.-f0.f10.f11.r0.-f5.-r0.f10\n",
    "# Found shorter path len: 25\n",
    "\n",
    "    "
   ]
  },
  {
   "cell_type": "markdown",
   "id": "b4caf194",
   "metadata": {
    "papermill": {
     "duration": 0.054069,
     "end_time": "2024-01-22T17:10:07.234974",
     "exception": false,
     "start_time": "2024-01-22T17:10:07.180905",
     "status": "completed"
    },
    "tags": []
   },
   "source": [
    "# Final steps - by charted territory "
   ]
  },
  {
   "cell_type": "code",
   "execution_count": 18,
   "id": "971a7275",
   "metadata": {
    "execution": {
     "iopub.execute_input": "2024-01-22T17:10:07.343777Z",
     "iopub.status.busy": "2024-01-22T17:10:07.343288Z",
     "iopub.status.idle": "2024-01-22T17:10:07.348543Z",
     "shell.execute_reply": "2024-01-22T17:10:07.347372Z"
    },
    "papermill": {
     "duration": 0.062403,
     "end_time": "2024-01-22T17:10:07.350865",
     "exception": false,
     "start_time": "2024-01-22T17:10:07.288462",
     "status": "completed"
    },
    "tags": []
   },
   "outputs": [],
   "source": [
    "# i_found = 1\n",
    "# For puzzle 356 (globe 2/6)\n",
    "# list_save_moves_shortest = [5, 0, 16, 20, 14, 28, 15, 5, 22, 4, 29, 2, 13, 10, 10, 25, 10, 25, 18, 13, 14, 0, 23, 15, 13]"
   ]
  },
  {
   "cell_type": "code",
   "execution_count": 19,
   "id": "65ea6d2a",
   "metadata": {
    "execution": {
     "iopub.execute_input": "2024-01-22T17:10:07.460215Z",
     "iopub.status.busy": "2024-01-22T17:10:07.459797Z",
     "iopub.status.idle": "2024-01-22T17:10:23.250509Z",
     "shell.execute_reply": "2024-01-22T17:10:23.249312Z"
    },
    "papermill": {
     "duration": 15.848524,
     "end_time": "2024-01-22T17:10:23.253174",
     "exception": false,
     "start_time": "2024-01-22T17:10:07.404650",
     "status": "completed"
    },
    "tags": []
   },
   "outputs": [
    {
     "name": "stdout",
     "output_type": "stream",
     "text": [
      "['-f8', 'f4', '-f0', 'r0', '-f0', '-f8', 'f4', 'f0', '-f8', '-r1', 'f3', 'f6', '-r1', '-r1', '-f5', 'r2', 'f1', 'f11', 'f3', '-r0', '-f7', 'r0', '-f11', '-f5', '-f3', '-f1', 'r2', 'f0', '-f7']\n",
      "-f8.f4.-f0.r0.-f0.-f8.f4.f0.-f8.-r1.f3.f6.-r1.-r1.-f5.r2.f1.f11.f3.-r0.-f7.r0.-f11.-f5.-f3.-f1.r2.f0.-f7\n",
      "new_state [11 10  9  8  8  8  2  1  1  2 11 11  4  4  4  5  5  5  6  6  6  7  7  7\n",
      "  3  2  1  0  0  0 10  9 10  9  3  3]\n",
      "IX_new_state: []\n",
      "8 distance_initial\n",
      "f2 decreases distance, new distance:  7\n",
      "f3 decreases distance, new distance:  6\n",
      "r0 decreases distance, new distance:  5\n",
      "f3 decreases distance, new distance:  4\n",
      "f2 decreases distance, new distance:  3\n",
      "-r0 decreases distance, new distance:  2\n",
      "f8 decreases distance, new distance:  1\n",
      "f0 decreases distance, new distance:  0\n",
      "Zero distance found\n",
      "State: [ 0  0  0  1  1  1  2  2  2  3  3  3  4  4  4  5  5  5  6  6  6  7  7  7\n",
      "  8  8  8  9  9  9 10 10 10 11 11 11]\n",
      "['f2', 'f3', 'r0', 'f3', 'f2', '-r0', 'f8', 'f0']\n",
      "Fist stage (random walk searched) path: -f8.f4.-f0.r0.-f0.-f8.f4.f0.-f8.-r1.f3.f6.-r1.-r1.-f5.r2.f1.f11.f3.-r0.-f7.r0.-f11.-f5.-f3.-f1.r2.f0.-f7\n",
      "Second stage (brute force)  path: f2.f3.r0.f3.f2.-r0.f8.f0\n",
      "str_full_path: 37 -f8.f4.-f0.r0.-f0.-f8.f4.f0.-f8.-r1.f3.f6.-r1.-r1.-f5.r2.f1.f11.f3.-r0.-f7.r0.-f11.-f5.-f3.-f1.r2.f0.-f7.f2.f3.r0.f3.f2.-r0.f8.f0\n",
      "str_full_path: 37 -f8.f4.-f0.r0.-f0.-f8.f4.f0.-f8.-r1.f3.f6.-r1.-r1.-f5.r2.f1.f11.f3.-r0.-f7.r0.-f11.-f5.-f3.-f1.r2.f0.-f7.f2.f3.r0.f3.f2.-r0.f8.f0\n",
      "CPU times: user 12.8 s, sys: 2.97 s, total: 15.8 s\n",
      "Wall time: 15.8 s\n"
     ]
    }
   ],
   "source": [
    "%%time\n",
    "\n",
    "def go_by_path(start_state, list_path_moves_names ):\n",
    "    current_state = start_state\n",
    "    for move_name in list_path_moves_names:\n",
    "        #print(move_name)\n",
    "        matr = dict_move_name_to_matrix[move_name]\n",
    "        current_state = np.dot(matr, current_state)\n",
    "    return current_state\n",
    "def get_distance_to_state( vec_state ):\n",
    "    hash_tmp = np.dot(vec_to_create_hash, vec_state.reshape(-1,1) )\n",
    "    IX = np.where(hash_tmp == vec_hash_around_solution_state)[0]\n",
    "    if len(IX) > 0:\n",
    "        return vec_distances_around_solution_state[IX[0]] \n",
    "    else:\n",
    "        return None \n",
    "\n",
    "\n",
    "if i_found > 0:            \n",
    "    # \n",
    "    list_save_moves_shortest_names = [df_moves_names.iat[ itmp, 0 ]  for itmp in list_save_moves_shortest ]\n",
    "    print(list_save_moves_shortest_names)\n",
    "    str_path_first_stage_random_walk_search = '.'.join(map(str, list_save_moves_shortest_names))\n",
    "    print(str_path_first_stage_random_walk_search)\n",
    "\n",
    "\n",
    "    new_state = go_by_path(vec_initial_state, list_save_moves_shortest_names)\n",
    "    new_state_hash = np.dot(vec_to_create_hash,  new_state)\n",
    "    print('new_state', new_state)\n",
    "    IX_new_state = np.where(vec_hash == new_state_hash )[0]\n",
    "    print('IX_new_state:',IX_new_state)\n",
    "    if len(IX_new_state)>0:\n",
    "        IX_new_state = IX_new_state[0]\n",
    "        print('IX_new_state:',IX_new_state)\n",
    "        print('Distance:', vec_distances[IX_new_state])\n",
    "\n",
    "    get_distance_to_state( new_state )            \n",
    "    \n",
    "    ms =  all_move_matrices_vstacked.shape[1]   \n",
    "    distance_initial = get_distance_to_state( new_state )\n",
    "    print(distance_initial, 'distance_initial')\n",
    "    vec_current_state = new_state.copy()\n",
    "    distance_current = distance_initial\n",
    "    list_moves = []\n",
    "    for i_move in range(distance_initial):\n",
    "        new_states_h_stacked = np.dot( all_move_matrices_vstacked, vec_current_state).reshape(-1,ms ).T # states iobtained by all 1-moves from current - h_stacked\n",
    "        for i_state in range(new_states_h_stacked.shape[1] ):\n",
    "            vec_new_state_candidate = new_states_h_stacked[:, i_state ] \n",
    "            new_distance = get_distance_to_state( vec_new_state_candidate  )\n",
    "            #print('new_distance',new_distance)\n",
    "            if (new_distance is not None) and (distance_current > new_distance): \n",
    "                move_name = df_moves_names.iloc[i_state,0]\n",
    "                print(move_name, 'decreases distance, new distance: ', new_distance )\n",
    "                list_moves.append( move_name )\n",
    "                vec_current_state = vec_new_state_candidate\n",
    "                distance_current = new_distance\n",
    "                break\n",
    "        if new_distance == 0:\n",
    "            print('Zero distance found')\n",
    "            print('State:', vec_new_state_candidate)\n",
    "\n",
    "\n",
    "    print(list_moves)\n",
    "    str_path_second_stage_brute_force_search = '.'.join(map(str, list_moves))\n",
    "    print('Fist stage (random walk searched) path:',str_path_first_stage_random_walk_search)\n",
    "    print('Second stage (brute force)  path:',str_path_second_stage_brute_force_search)\n",
    "    str_full_path = str_path_first_stage_random_walk_search + '.'+str_path_second_stage_brute_force_search\n",
    "    print('str_full_path:', len(str_full_path.split('.') ),  str_full_path)\n",
    "    \n",
    "    print('str_full_path:', len(str_full_path.split('.') ),  str_full_path)\n"
   ]
  },
  {
   "cell_type": "markdown",
   "id": "a4bf1bf0",
   "metadata": {
    "papermill": {
     "duration": 0.054015,
     "end_time": "2024-01-22T17:10:23.363273",
     "exception": false,
     "start_time": "2024-01-22T17:10:23.309258",
     "status": "completed"
    },
    "tags": []
   },
   "source": [
    "# Check solution"
   ]
  },
  {
   "cell_type": "code",
   "execution_count": 20,
   "id": "d77f76d0",
   "metadata": {
    "execution": {
     "iopub.execute_input": "2024-01-22T17:10:23.474788Z",
     "iopub.status.busy": "2024-01-22T17:10:23.474395Z",
     "iopub.status.idle": "2024-01-22T17:10:23.482330Z",
     "shell.execute_reply": "2024-01-22T17:10:23.481103Z"
    },
    "papermill": {
     "duration": 0.066168,
     "end_time": "2024-01-22T17:10:23.484520",
     "exception": false,
     "start_time": "2024-01-22T17:10:23.418352",
     "status": "completed"
    },
    "tags": []
   },
   "outputs": [
    {
     "name": "stdout",
     "output_type": "stream",
     "text": [
      "Check passed. Achieved solution state.\n",
      "CPU times: user 1.08 ms, sys: 8 µs, total: 1.09 ms\n",
      "Wall time: 873 µs\n"
     ]
    }
   ],
   "source": [
    "%%time\n",
    "if i_found > 0:            \n",
    "    vec_final_state = go_by_path(vec_initial_state, str_full_path.split('.') )\n",
    "    vec_final_state\n",
    "    if np.all(vec_final_state == vec_solution_state ):\n",
    "        print('Check passed. Achieved solution state.')\n",
    "    else:\n",
    "        print('Something wrong. Solution state not achieved.')\n"
   ]
  },
  {
   "cell_type": "markdown",
   "id": "2a0ea732",
   "metadata": {
    "papermill": {
     "duration": 0.053739,
     "end_time": "2024-01-22T17:10:23.593852",
     "exception": false,
     "start_time": "2024-01-22T17:10:23.540113",
     "status": "completed"
    },
    "tags": []
   },
   "source": [
    "# Submit file prepare "
   ]
  },
  {
   "cell_type": "code",
   "execution_count": 21,
   "id": "c2ffb9c6",
   "metadata": {
    "execution": {
     "iopub.execute_input": "2024-01-22T17:10:23.707949Z",
     "iopub.status.busy": "2024-01-22T17:10:23.707550Z",
     "iopub.status.idle": "2024-01-22T17:10:24.055744Z",
     "shell.execute_reply": "2024-01-22T17:10:24.054483Z"
    },
    "papermill": {
     "duration": 0.40922,
     "end_time": "2024-01-22T17:10:24.058354",
     "exception": false,
     "start_time": "2024-01-22T17:10:23.649134",
     "status": "completed"
    },
    "tags": []
   },
   "outputs": [
    {
     "name": "stdout",
     "output_type": "stream",
     "text": [
      "<class 'str'> 742 -r0.r1.-f6.r2.-f0.r2.-f1.f10.f0.f5.f2.-f0.f1.r0.r0.-r1.-r1.-r1.-r1.-f6.-r2.f1.f10.r0.r0.f10.r2.r2.f4.f11.-f0.-f10.f9.-r2.-f0.-r0.-f11.-f0.-r2.f7.r2.f1.f2.r0.f2.f6.-f11.f10.f8.-f9.-f0.-f8.-f0.-f5.-f0.-f7.-f0.f5.f0.f9.f0.-r0.-f4.r0.f0.f9.f0.r2.-f7.r0.-f7.-r0.f2.r0.f2.-r0.-f6.r0.-r2.-f3.r2.f0.f9.f0.-r2.-f3.r2.f10.-r0.f10.-r2.r2.-f11.-r0.-f0.r0.r0.-f5.-r0.-f5.r0.f10.-r0.f10.-r2.-r0.f3.r0.-f0.-f10.-f0.-r0.f3.r0.f7.-r0.-r0.f7.-f8.-f9.r0.f3.r0.-f0.-f10.-f0.-r0.f3.r0.-r2.-f11.-f8.-f11.r2.-f11.-f8.-f11.f6.-f4.-r2.-r2.-f10.-r0.-r0.-f10.-r2.-r2.-f0.-r0.-r0.f0.f4.-f0.-f7.-f0.-f6.-r2.-f6.r2.-f6.-r2.-f0.-r0.-f0.-r2.f4.r2.-f4.-r0.-f4.r0.f9.-r0.f9.-r2.-f6.f11.-r0.f11.-r2.f11.-r0.f11.-r2.f0.f7.f0.f4.-r2.f5.r2.f11.-r0.f11.-r2.-f5.-r2.f5.f1.-f6.f8.f10\n"
     ]
    },
    {
     "data": {
      "text/html": [
       "<div>\n",
       "<style scoped>\n",
       "    .dataframe tbody tr th:only-of-type {\n",
       "        vertical-align: middle;\n",
       "    }\n",
       "\n",
       "    .dataframe tbody tr th {\n",
       "        vertical-align: top;\n",
       "    }\n",
       "\n",
       "    .dataframe thead th {\n",
       "        text-align: right;\n",
       "    }\n",
       "</style>\n",
       "<table border=\"1\" class=\"dataframe\">\n",
       "  <thead>\n",
       "    <tr style=\"text-align: right;\">\n",
       "      <th></th>\n",
       "      <th>moves</th>\n",
       "    </tr>\n",
       "    <tr>\n",
       "      <th>id</th>\n",
       "      <th></th>\n",
       "    </tr>\n",
       "  </thead>\n",
       "  <tbody>\n",
       "    <tr>\n",
       "      <th>0</th>\n",
       "      <td>r1.-f1</td>\n",
       "    </tr>\n",
       "    <tr>\n",
       "      <th>1</th>\n",
       "      <td>f0.r1.f1.-d0.-d0.-f0.-r0.f0.d0</td>\n",
       "    </tr>\n",
       "  </tbody>\n",
       "</table>\n",
       "</div>"
      ],
      "text/plain": [
       "                             moves\n",
       "id                                \n",
       "0                           r1.-f1\n",
       "1   f0.r1.f1.-d0.-d0.-f0.-r0.f0.d0"
      ]
     },
     "metadata": {},
     "output_type": "display_data"
    },
    {
     "name": "stdout",
     "output_type": "stream",
     "text": [
      "720008\n",
      "submission_720008_globe_26_puzzle357_moves37.csv\n",
      "CPU times: user 264 ms, sys: 22 ms, total: 286 ms\n",
      "Wall time: 339 ms\n"
     ]
    }
   ],
   "source": [
    "%%time\n",
    "if i_found > 0:            \n",
    "\n",
    "    df_sub = pd.read_csv(fn_save_submit,index_col = 0 )\n",
    "    t = df_sub.loc[index_initial_state, 'moves']\n",
    "    print(type(t), len(t), t)\n",
    "    display(df_sub.head(2))\n",
    "    df_sub.loc[index_initial_state, 'moves'] = str_full_path\n",
    "    total_moves_count = np.sum( [len(df_sub.loc[t, 'moves'].split('.')) for t in df_sub.index ])\n",
    "    print(total_moves_count)\n",
    "    n_for_puzzle = len(str_full_path.split('.'))\n",
    "    fn = 'submission_'+str(total_moves_count) +'_'+puzzle_type_main.replace('/','')+'_puzzle'+str(index_initial_state)+'_moves'+str(n_for_puzzle ) +'.csv'\n",
    "    print(fn)\n",
    "    df_sub.to_csv(fn)\n"
   ]
  },
  {
   "cell_type": "markdown",
   "id": "02d9292a",
   "metadata": {
    "papermill": {
     "duration": 0.054556,
     "end_time": "2024-01-22T17:10:24.170105",
     "exception": false,
     "start_time": "2024-01-22T17:10:24.115549",
     "status": "completed"
    },
    "tags": []
   },
   "source": [
    "# Final timing"
   ]
  },
  {
   "cell_type": "code",
   "execution_count": 22,
   "id": "1dc24e40",
   "metadata": {
    "execution": {
     "iopub.execute_input": "2024-01-22T17:10:24.281573Z",
     "iopub.status.busy": "2024-01-22T17:10:24.281188Z",
     "iopub.status.idle": "2024-01-22T17:10:24.287109Z",
     "shell.execute_reply": "2024-01-22T17:10:24.285982Z"
    },
    "papermill": {
     "duration": 0.064801,
     "end_time": "2024-01-22T17:10:24.289644",
     "exception": false,
     "start_time": "2024-01-22T17:10:24.224843",
     "status": "completed"
    },
    "tags": []
   },
   "outputs": [
    {
     "name": "stdout",
     "output_type": "stream",
     "text": [
      "7001.7 seconds passed total \n",
      "116.7 minutes passed total \n",
      "1.94 hours passed total \n"
     ]
    }
   ],
   "source": [
    "print('%.1f seconds passed total '%(time.time()-t0start) )\n",
    "print('%.1f minutes passed total '%( (time.time()-t0start)/60)  )\n",
    "print('%.2f hours passed total '%( (time.time()-t0start)/3600)  )"
   ]
  }
 ],
 "metadata": {
  "kaggle": {
   "accelerator": "none",
   "dataSources": [
    {
     "databundleVersionId": 7339171,
     "sourceId": 65704,
     "sourceType": "competition"
    },
    {
     "databundleVersionId": 7535216,
     "datasetId": 4318648,
     "sourceId": 7443374,
     "sourceType": "datasetVersion"
    },
    {
     "databundleVersionId": 7541709,
     "datasetId": 4297285,
     "sourceId": 7449808,
     "sourceType": "datasetVersion"
    }
   ],
   "dockerImageVersionId": 30635,
   "isGpuEnabled": false,
   "isInternetEnabled": true,
   "language": "python",
   "sourceType": "notebook"
  },
  "kernelspec": {
   "display_name": "Python 3",
   "language": "python",
   "name": "python3"
  },
  "language_info": {
   "codemirror_mode": {
    "name": "ipython",
    "version": 3
   },
   "file_extension": ".py",
   "mimetype": "text/x-python",
   "name": "python",
   "nbconvert_exporter": "python",
   "pygments_lexer": "ipython3",
   "version": "3.10.12"
  },
  "papermill": {
   "default_parameters": {},
   "duration": 7007.389923,
   "end_time": "2024-01-22T17:10:26.392303",
   "environment_variables": {},
   "exception": null,
   "input_path": "__notebook__.ipynb",
   "output_path": "__notebook__.ipynb",
   "parameters": {},
   "start_time": "2024-01-22T15:13:39.002380",
   "version": "2.4.0"
  }
 },
 "nbformat": 4,
 "nbformat_minor": 5
}
